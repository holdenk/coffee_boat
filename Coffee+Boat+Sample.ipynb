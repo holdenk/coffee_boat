{
 "cells": [
  {
   "cell_type": "code",
   "execution_count": 1,
   "metadata": {
    "collapsed": false
   },
   "outputs": [
    {
     "data": {
      "text/html": [
       "\n",
       "          <script src=\"/static/components/requirejs/require.js\"></script>\n",
       "          <script>\n",
       "            requirejs.config({\n",
       "              paths: {\n",
       "                base: '/static/base',\n",
       "              },\n",
       "            });\n",
       "          </script>\n",
       "          "
      ],
      "text/plain": [
       "<IPython.core.display.HTML object>"
      ]
     },
     "metadata": {},
     "output_type": "display_data"
    },
    {
     "name": "stdout",
     "output_type": "stream",
     "text": [
      "rm: cannot remove '/usr/lib/spark/python/pyspark/shell.py': No such file or directory\r\n"
     ]
    }
   ],
   "source": [
    "# If your working in datalab inside of dataproc they auto start PySpark, which is great -- except we need to kill it first\n",
    "!rm /usr/lib/spark/python/pyspark/shell.py && echo \"Please restart your kernel, PySpark was already loaded :(\""
   ]
  },
  {
   "cell_type": "code",
   "execution_count": 2,
   "metadata": {
    "collapsed": false
   },
   "outputs": [
    {
     "data": {
      "text/html": [
       "\n",
       "          <script src=\"/static/components/requirejs/require.js\"></script>\n",
       "          <script>\n",
       "            requirejs.config({\n",
       "              paths: {\n",
       "                base: '/static/base',\n",
       "              },\n",
       "            });\n",
       "          </script>\n",
       "          "
      ],
      "text/plain": [
       "<IPython.core.display.HTML object>"
      ]
     },
     "metadata": {},
     "output_type": "display_data"
    }
   ],
   "source": [
    "assert('sc' not in globals())"
   ]
  },
  {
   "cell_type": "code",
   "execution_count": 3,
   "metadata": {
    "collapsed": false
   },
   "outputs": [
    {
     "data": {
      "text/html": [
       "\n",
       "          <script src=\"/static/components/requirejs/require.js\"></script>\n",
       "          <script>\n",
       "            requirejs.config({\n",
       "              paths: {\n",
       "                base: '/static/base',\n",
       "              },\n",
       "            });\n",
       "          </script>\n",
       "          "
      ],
      "text/plain": [
       "<IPython.core.display.HTML object>"
      ]
     },
     "metadata": {},
     "output_type": "display_data"
    }
   ],
   "source": [
    "# Install PySpark, note: you don't want to install PySpark with coffee boat\n",
    "!pip install pyspark"
   ]
  },
  {
   "cell_type": "code",
   "execution_count": 4,
   "metadata": {
    "collapsed": false
   },
   "outputs": [
    {
     "data": {
      "text/html": [
       "\n",
       "          <script src=\"/static/components/requirejs/require.js\"></script>\n",
       "          <script>\n",
       "            requirejs.config({\n",
       "              paths: {\n",
       "                base: '/static/base',\n",
       "              },\n",
       "            });\n",
       "          </script>\n",
       "          "
      ],
      "text/plain": [
       "<IPython.core.display.HTML object>"
      ]
     },
     "metadata": {},
     "output_type": "display_data"
    },
    {
     "name": "stdout",
     "output_type": "stream",
     "text": [
      "Uninstalling edtf-2.7.0:\n",
      "  Successfully uninstalled edtf-2.7.0\n"
     ]
    }
   ],
   "source": [
    "!pip uninstall -y edtf"
   ]
  },
  {
   "cell_type": "code",
   "execution_count": 5,
   "metadata": {
    "collapsed": false
   },
   "outputs": [
    {
     "data": {
      "text/html": [
       "\n",
       "          <script src=\"/static/components/requirejs/require.js\"></script>\n",
       "          <script>\n",
       "            requirejs.config({\n",
       "              paths: {\n",
       "                base: '/static/base',\n",
       "              },\n",
       "            });\n",
       "          </script>\n",
       "          "
      ],
      "text/plain": [
       "<IPython.core.display.HTML object>"
      ]
     },
     "metadata": {},
     "output_type": "display_data"
    }
   ],
   "source": [
    "from pyspark.context import *"
   ]
  },
  {
   "cell_type": "code",
   "execution_count": null,
   "metadata": {
    "collapsed": false
   },
   "outputs": [],
   "source": [
    "# Clone cofee boat in\n",
    "!pip install git+https://github.com/holdenk/coffee_boat.git"
   ]
  },
  {
   "cell_type": "code",
   "execution_count": 8,
   "metadata": {
    "collapsed": false
   },
   "outputs": [
    {
     "data": {
      "text/html": [
       "\n",
       "          <script src=\"/static/components/requirejs/require.js\"></script>\n",
       "          <script>\n",
       "            requirejs.config({\n",
       "              paths: {\n",
       "                base: '/static/base',\n",
       "              },\n",
       "            });\n",
       "          </script>\n",
       "          "
      ],
      "text/plain": [
       "<IPython.core.display.HTML object>"
      ]
     },
     "metadata": {},
     "output_type": "display_data"
    },
    {
     "name": "stdout",
     "output_type": "stream",
     "text": [
      "Already up-to-date.\r\n"
     ]
    }
   ],
   "source": [
    "!cd coffee_boat; git pull"
   ]
  },
  {
   "cell_type": "code",
   "execution_count": 9,
   "metadata": {
    "collapsed": false
   },
   "outputs": [
    {
     "data": {
      "text/html": [
       "\n",
       "          <script src=\"/static/components/requirejs/require.js\"></script>\n",
       "          <script>\n",
       "            requirejs.config({\n",
       "              paths: {\n",
       "                base: '/static/base',\n",
       "              },\n",
       "            });\n",
       "          </script>\n",
       "          "
      ],
      "text/plain": [
       "<IPython.core.display.HTML object>"
      ]
     },
     "metadata": {},
     "output_type": "display_data"
    }
   ],
   "source": [
    "from coffee_boat import Captain"
   ]
  },
  {
   "cell_type": "code",
   "execution_count": 10,
   "metadata": {
    "collapsed": false
   },
   "outputs": [
    {
     "data": {
      "text/html": [
       "\n",
       "          <script src=\"/static/components/requirejs/require.js\"></script>\n",
       "          <script>\n",
       "            requirejs.config({\n",
       "              paths: {\n",
       "                base: '/static/base',\n",
       "              },\n",
       "            });\n",
       "          </script>\n",
       "          "
      ],
      "text/plain": [
       "<IPython.core.display.HTML object>"
      ]
     },
     "metadata": {},
     "output_type": "display_data"
    },
    {
     "name": "stdout",
     "output_type": "stream",
     "text": [
      "Downloading conda from https://repo.continuum.io/miniconda/Miniconda2-latest-Linux-x86_64.sh to /tmp/coffee_boat_tmp_uyQA4S\n",
      "Running conda setup....\n"
     ]
    }
   ],
   "source": [
    "captain = Captain(accept_conda_license=True)"
   ]
  },
  {
   "cell_type": "code",
   "execution_count": 11,
   "metadata": {
    "collapsed": false
   },
   "outputs": [
    {
     "data": {
      "text/html": [
       "\n",
       "          <script src=\"/static/components/requirejs/require.js\"></script>\n",
       "          <script>\n",
       "            requirejs.config({\n",
       "              paths: {\n",
       "                base: '/static/base',\n",
       "              },\n",
       "            });\n",
       "          </script>\n",
       "          "
      ],
      "text/plain": [
       "<IPython.core.display.HTML object>"
      ]
     },
     "metadata": {},
     "output_type": "display_data"
    }
   ],
   "source": [
    "# Failed import\n",
    "#import \tedtf"
   ]
  },
  {
   "cell_type": "code",
   "execution_count": 12,
   "metadata": {
    "collapsed": false
   },
   "outputs": [
    {
     "data": {
      "text/html": [
       "\n",
       "          <script src=\"/static/components/requirejs/require.js\"></script>\n",
       "          <script>\n",
       "            requirejs.config({\n",
       "              paths: {\n",
       "                base: '/static/base',\n",
       "              },\n",
       "            });\n",
       "          </script>\n",
       "          "
      ],
      "text/plain": [
       "<IPython.core.display.HTML object>"
      ]
     },
     "metadata": {},
     "output_type": "display_data"
    }
   ],
   "source": [
    "# Successful import\n",
    "import nbconvert"
   ]
  },
  {
   "cell_type": "code",
   "execution_count": 13,
   "metadata": {
    "collapsed": false
   },
   "outputs": [
    {
     "data": {
      "text/html": [
       "\n",
       "          <script src=\"/static/components/requirejs/require.js\"></script>\n",
       "          <script>\n",
       "            requirejs.config({\n",
       "              paths: {\n",
       "                base: '/static/base',\n",
       "              },\n",
       "            });\n",
       "          </script>\n",
       "          "
      ],
      "text/plain": [
       "<IPython.core.display.HTML object>"
      ]
     },
     "metadata": {},
     "output_type": "display_data"
    },
    {
     "data": {
      "text/plain": [
       "''"
      ]
     },
     "execution_count": 13,
     "metadata": {},
     "output_type": "execute_result"
    }
   ],
   "source": [
    "sc"
   ]
  },
  {
   "cell_type": "code",
   "execution_count": 14,
   "metadata": {
    "collapsed": false
   },
   "outputs": [
    {
     "data": {
      "text/html": [
       "\n",
       "          <script src=\"/static/components/requirejs/require.js\"></script>\n",
       "          <script>\n",
       "            requirejs.config({\n",
       "              paths: {\n",
       "                base: '/static/base',\n",
       "              },\n",
       "            });\n",
       "          </script>\n",
       "          "
      ],
      "text/plain": [
       "<IPython.core.display.HTML object>"
      ]
     },
     "metadata": {},
     "output_type": "display_data"
    },
    {
     "name": "stdout",
     "output_type": "stream",
     "text": [
      "access_tokens.db  config_sentinel  credentials.db  logs\t\t  settings.json\n",
      "active_config\t  configurations   gce\t\t   notary_secret  startup.sh\n",
      "root     10949  0.0  0.0   4508   752 pts/0    Ss+  07:59   0:00              \\_ /bin/sh -c ps auxf |grep -i spark\n",
      "root     10951  0.0  0.0    532     4 pts/0    R+   07:59   0:00                  \\_ grep -i spark\n"
     ]
    }
   ],
   "source": [
    "!ls /content/datalab/.config/\n",
    "!ps auxf |grep -i spark"
   ]
  },
  {
   "cell_type": "code",
   "execution_count": 15,
   "metadata": {
    "collapsed": false
   },
   "outputs": [
    {
     "data": {
      "text/html": [
       "\n",
       "          <script src=\"/static/components/requirejs/require.js\"></script>\n",
       "          <script>\n",
       "            requirejs.config({\n",
       "              paths: {\n",
       "                base: '/static/base',\n",
       "              },\n",
       "            });\n",
       "          </script>\n",
       "          "
      ],
      "text/plain": [
       "<IPython.core.display.HTML object>"
      ]
     },
     "metadata": {},
     "output_type": "display_data"
    },
    {
     "name": "stdout",
     "output_type": "stream",
     "text": [
      "root     10952  0.0  0.0   4508   712 pts/0    Ss+  07:59   0:00              \\_ /bin/sh -c ps auxf |grep -i spark\r\n",
      "root     10954  0.0  0.0  12944   960 pts/0    S+   07:59   0:00                  \\_ grep -i spark\r\n"
     ]
    }
   ],
   "source": [
    "!ps auxf |grep -i spark"
   ]
  },
  {
   "cell_type": "code",
   "execution_count": 16,
   "metadata": {
    "collapsed": false
   },
   "outputs": [
    {
     "data": {
      "text/html": [
       "\n",
       "          <script src=\"/static/components/requirejs/require.js\"></script>\n",
       "          <script>\n",
       "            requirejs.config({\n",
       "              paths: {\n",
       "                base: '/static/base',\n",
       "              },\n",
       "            });\n",
       "          </script>\n",
       "          "
      ],
      "text/plain": [
       "<IPython.core.display.HTML object>"
      ]
     },
     "metadata": {},
     "output_type": "display_data"
    }
   ],
   "source": [
    "captain.add_pip_packages(\"spark-testing-base\", \"edtf\")"
   ]
  },
  {
   "cell_type": "code",
   "execution_count": 17,
   "metadata": {
    "collapsed": false
   },
   "outputs": [
    {
     "data": {
      "text/html": [
       "\n",
       "          <script src=\"/static/components/requirejs/require.js\"></script>\n",
       "          <script>\n",
       "            requirejs.config({\n",
       "              paths: {\n",
       "                base: '/static/base',\n",
       "              },\n",
       "            });\n",
       "          </script>\n",
       "          "
      ],
      "text/plain": [
       "<IPython.core.display.HTML object>"
      ]
     },
     "metadata": {},
     "output_type": "display_data"
    }
   ],
   "source": [
    "import edtf"
   ]
  },
  {
   "cell_type": "code",
   "execution_count": 18,
   "metadata": {
    "collapsed": false
   },
   "outputs": [
    {
     "data": {
      "text/html": [
       "\n",
       "          <script src=\"/static/components/requirejs/require.js\"></script>\n",
       "          <script>\n",
       "            requirejs.config({\n",
       "              paths: {\n",
       "                base: '/static/base',\n",
       "              },\n",
       "            });\n",
       "          </script>\n",
       "          "
      ],
      "text/plain": [
       "<IPython.core.display.HTML object>"
      ]
     },
     "metadata": {},
     "output_type": "display_data"
    },
    {
     "name": "stdout",
     "output_type": "stream",
     "text": [
      "Writing package spec to /tmp/coffee_boat_tmp_uyQA4S/tmpk79_kQ.\n",
      "Creating conda env\n",
      "Packaging conda env\n"
     ]
    }
   ],
   "source": [
    "captain.launch_ship()"
   ]
  },
  {
   "cell_type": "code",
   "execution_count": 19,
   "metadata": {
    "collapsed": false
   },
   "outputs": [
    {
     "data": {
      "text/html": [
       "\n",
       "          <script src=\"/static/components/requirejs/require.js\"></script>\n",
       "          <script>\n",
       "            requirejs.config({\n",
       "              paths: {\n",
       "                base: '/static/base',\n",
       "              },\n",
       "            });\n",
       "          </script>\n",
       "          "
      ],
      "text/plain": [
       "<IPython.core.display.HTML object>"
      ]
     },
     "metadata": {},
     "output_type": "display_data"
    },
    {
     "name": "stdout",
     "output_type": "stream",
     "text": [
      "root     10984  0.0  0.0   4508   704 pts/0    Ss+  08:00   0:00 /bin/sh -c ps aux |grep spark\r\n",
      "root     10986  0.0  0.0  12944  1008 pts/0    S+   08:00   0:00 grep spark\r\n"
     ]
    }
   ],
   "source": [
    "if 'sc' in globals():\n",
    "  sc.stop\n",
    "!ps aux |grep spark"
   ]
  },
  {
   "cell_type": "code",
   "execution_count": 20,
   "metadata": {
    "collapsed": false
   },
   "outputs": [
    {
     "data": {
      "text/html": [
       "\n",
       "          <script src=\"/static/components/requirejs/require.js\"></script>\n",
       "          <script>\n",
       "            requirejs.config({\n",
       "              paths: {\n",
       "                base: '/static/base',\n",
       "              },\n",
       "            });\n",
       "          </script>\n",
       "          "
      ],
      "text/plain": [
       "<IPython.core.display.HTML object>"
      ]
     },
     "metadata": {},
     "output_type": "display_data"
    },
    {
     "data": {
      "text/plain": [
       "('--py-files /tmp/coffee_boat_tmp_uyQA4S/coffee_boat.zip,/tmp/coffee_boat_tmp_uyQA4S/coffee_boat_runner.sh pyspark-shell',\n",
       " './coffee_boat_runner.sh')"
      ]
     },
     "execution_count": 20,
     "metadata": {},
     "output_type": "execute_result"
    }
   ],
   "source": [
    "import os\n",
    "(os.environ['PYSPARK_SUBMIT_ARGS'], os.environ['PYSPARK_PYTHON'])"
   ]
  },
  {
   "cell_type": "code",
   "execution_count": 23,
   "metadata": {
    "collapsed": false
   },
   "outputs": [
    {
     "data": {
      "text/html": [
       "\n",
       "          <script src=\"/static/components/requirejs/require.js\"></script>\n",
       "          <script>\n",
       "            requirejs.config({\n",
       "              paths: {\n",
       "                base: '/static/base',\n",
       "              },\n",
       "            });\n",
       "          </script>\n",
       "          "
      ],
      "text/plain": [
       "<IPython.core.display.HTML object>"
      ]
     },
     "metadata": {},
     "output_type": "display_data"
    }
   ],
   "source": [
    "#os.environ['PYSPARK_SUBMIT_ARGS']= '--py-files /tmp/coffee_boat_tmp_TgdpKg/coffee_boat.zip,/tmp/coffee_boat_tmp_TgdpKg/coffee_boat_runner.sh pyspark-shell'\n",
    "#del os.environ[\"PYSPARK_PYTHON\"]\n",
    "#del os.environ[\"PYSPARK_GATEWAY_PORT\"]\n",
    "sc = SparkContext(master=\"yarn\")"
   ]
  },
  {
   "cell_type": "code",
   "execution_count": 24,
   "metadata": {
    "collapsed": false
   },
   "outputs": [
    {
     "data": {
      "text/html": [
       "\n",
       "          <script src=\"/static/components/requirejs/require.js\"></script>\n",
       "          <script>\n",
       "            requirejs.config({\n",
       "              paths: {\n",
       "                base: '/static/base',\n",
       "              },\n",
       "            });\n",
       "          </script>\n",
       "          "
      ],
      "text/plain": [
       "<IPython.core.display.HTML object>"
      ]
     },
     "metadata": {},
     "output_type": "display_data"
    },
    {
     "data": {
      "text/html": [
       "\n",
       "        <div>\n",
       "            <p><b>SparkContext</b></p>\n",
       "\n",
       "            <p><a href=\"http://10.128.0.7:4040\">Spark UI</a></p>\n",
       "\n",
       "            <dl>\n",
       "              <dt>Version</dt>\n",
       "                <dd><code>v2.2.0</code></dd>\n",
       "              <dt>Master</dt>\n",
       "                <dd><code>yarn</code></dd>\n",
       "              <dt>AppName</dt>\n",
       "                <dd><code>pyspark-shell</code></dd>\n",
       "            </dl>\n",
       "        </div>\n",
       "        "
      ],
      "text/plain": [
       "<SparkContext master=yarn appName=pyspark-shell>"
      ]
     },
     "execution_count": 24,
     "metadata": {},
     "output_type": "execute_result"
    }
   ],
   "source": [
    "sc"
   ]
  },
  {
   "cell_type": "code",
   "execution_count": 25,
   "metadata": {
    "collapsed": false
   },
   "outputs": [
    {
     "data": {
      "text/html": [
       "\n",
       "          <script src=\"/static/components/requirejs/require.js\"></script>\n",
       "          <script>\n",
       "            requirejs.config({\n",
       "              paths: {\n",
       "                base: '/static/base',\n",
       "              },\n",
       "            });\n",
       "          </script>\n",
       "          "
      ],
      "text/plain": [
       "<IPython.core.display.HTML object>"
      ]
     },
     "metadata": {},
     "output_type": "display_data"
    }
   ],
   "source": [
    "rdd = sc.parallelize(range(10))"
   ]
  },
  {
   "cell_type": "code",
   "execution_count": 26,
   "metadata": {
    "collapsed": false
   },
   "outputs": [
    {
     "data": {
      "text/html": [
       "\n",
       "          <script src=\"/static/components/requirejs/require.js\"></script>\n",
       "          <script>\n",
       "            requirejs.config({\n",
       "              paths: {\n",
       "                base: '/static/base',\n",
       "              },\n",
       "            });\n",
       "          </script>\n",
       "          "
      ],
      "text/plain": [
       "<IPython.core.display.HTML object>"
      ]
     },
     "metadata": {},
     "output_type": "display_data"
    },
    {
     "data": {
      "text/plain": [
       "[(0,\n",
       "  '/hadoop/yarn/nm-local-dir/usercache/root/appcache/application_1515468344211_0031/container_1515468344211_0031_01_000003/tmp/coffee_boat_tmp_uyQA4S/coffee_boat/bin/python'),\n",
       " (1,\n",
       "  '/hadoop/yarn/nm-local-dir/usercache/root/appcache/application_1515468344211_0031/container_1515468344211_0031_01_000003/tmp/coffee_boat_tmp_uyQA4S/coffee_boat/bin/python'),\n",
       " (2,\n",
       "  '/hadoop/yarn/nm-local-dir/usercache/root/appcache/application_1515468344211_0031/container_1515468344211_0031_01_000003/tmp/coffee_boat_tmp_uyQA4S/coffee_boat/bin/python'),\n",
       " (3,\n",
       "  '/hadoop/yarn/nm-local-dir/usercache/root/appcache/application_1515468344211_0031/container_1515468344211_0031_01_000003/tmp/coffee_boat_tmp_uyQA4S/coffee_boat/bin/python'),\n",
       " (4,\n",
       "  '/hadoop/yarn/nm-local-dir/usercache/root/appcache/application_1515468344211_0031/container_1515468344211_0031_01_000003/tmp/coffee_boat_tmp_uyQA4S/coffee_boat/bin/python'),\n",
       " (5,\n",
       "  '/hadoop/yarn/nm-local-dir/usercache/root/appcache/application_1515468344211_0031/container_1515468344211_0031_01_000003/tmp/coffee_boat_tmp_uyQA4S/coffee_boat/bin/python'),\n",
       " (6,\n",
       "  '/hadoop/yarn/nm-local-dir/usercache/root/appcache/application_1515468344211_0031/container_1515468344211_0031_01_000003/tmp/coffee_boat_tmp_uyQA4S/coffee_boat/bin/python'),\n",
       " (7,\n",
       "  '/hadoop/yarn/nm-local-dir/usercache/root/appcache/application_1515468344211_0031/container_1515468344211_0031_01_000003/tmp/coffee_boat_tmp_uyQA4S/coffee_boat/bin/python'),\n",
       " (8,\n",
       "  '/hadoop/yarn/nm-local-dir/usercache/root/appcache/application_1515468344211_0031/container_1515468344211_0031_01_000003/tmp/coffee_boat_tmp_uyQA4S/coffee_boat/bin/python'),\n",
       " (9,\n",
       "  '/hadoop/yarn/nm-local-dir/usercache/root/appcache/application_1515468344211_0031/container_1515468344211_0031_01_000003/tmp/coffee_boat_tmp_uyQA4S/coffee_boat/bin/python')]"
      ]
     },
     "execution_count": 26,
     "metadata": {},
     "output_type": "execute_result"
    }
   ],
   "source": [
    "import sys\n",
    "rdd.map(lambda x: (x, sys.executable)).collect()"
   ]
  },
  {
   "cell_type": "code",
   "execution_count": 27,
   "metadata": {
    "collapsed": false
   },
   "outputs": [
    {
     "data": {
      "text/html": [
       "\n",
       "          <script src=\"/static/components/requirejs/require.js\"></script>\n",
       "          <script>\n",
       "            requirejs.config({\n",
       "              paths: {\n",
       "                base: '/static/base',\n",
       "              },\n",
       "            });\n",
       "          </script>\n",
       "          "
      ],
      "text/plain": [
       "<IPython.core.display.HTML object>"
      ]
     },
     "metadata": {},
     "output_type": "display_data"
    },
    {
     "data": {
      "text/plain": [
       "u'yarn'"
      ]
     },
     "execution_count": 27,
     "metadata": {},
     "output_type": "execute_result"
    }
   ],
   "source": [
    "sc.master"
   ]
  },
  {
   "cell_type": "code",
   "execution_count": 28,
   "metadata": {
    "collapsed": false
   },
   "outputs": [
    {
     "data": {
      "text/html": [
       "\n",
       "          <script src=\"/static/components/requirejs/require.js\"></script>\n",
       "          <script>\n",
       "            requirejs.config({\n",
       "              paths: {\n",
       "                base: '/static/base',\n",
       "              },\n",
       "            });\n",
       "          </script>\n",
       "          "
      ],
      "text/plain": [
       "<IPython.core.display.HTML object>"
      ]
     },
     "metadata": {},
     "output_type": "display_data"
    },
    {
     "data": {
      "text/plain": [
       "[(0,\n",
       "  'boo-na-2-sw-d821\\n',\n",
       "  '/usr/lib/spark/jars/spark-core_2.11-2.2.0.jar:/env/python:/usr/lib/spark/python/lib/pyspark.zip:/usr/lib/spark/python/lib/py4j-0.10.4-src.zip:/hadoop/yarn/nm-local-dir/usercache/root/appcache/application_1515468344211_0031/container_1515468344211_0031_01_000018/pyspark.zip:/hadoop/yarn/nm-local-dir/usercache/root/appcache/application_1515468344211_0031/container_1515468344211_0031_01_000018/py4j-0.10.4-src.zip:/hadoop/yarn/nm-local-dir/usercache/root/appcache/application_1515468344211_0031/container_1515468344211_0031_01_000018/coffee_boat.zip:/hadoop/yarn/nm-local-dir/usercache/root/appcache/application_1515468344211_0031/container_1515468344211_0031_01_000018/coffee_boat_runner.sh',\n",
       "  ['tmp',\n",
       "   '__spark_conf__',\n",
       "   '.container_tokens.crc',\n",
       "   'pyspark.zip',\n",
       "   'default_container_executor_session.sh',\n",
       "   '.default_container_executor.sh.crc',\n",
       "   '.launch_container.sh.crc',\n",
       "   '.default_container_executor_session.sh.crc',\n",
       "   'coffee_boat_runner.sh',\n",
       "   'default_container_executor.sh',\n",
       "   'py4j-0.10.4-src.zip',\n",
       "   'launch_container.sh',\n",
       "   'container_tokens']),\n",
       " (1,\n",
       "  'boo-na-2-sw-d821\\n',\n",
       "  '/usr/lib/spark/jars/spark-core_2.11-2.2.0.jar:/env/python:/usr/lib/spark/python/lib/pyspark.zip:/usr/lib/spark/python/lib/py4j-0.10.4-src.zip:/hadoop/yarn/nm-local-dir/usercache/root/appcache/application_1515468344211_0031/container_1515468344211_0031_01_000018/pyspark.zip:/hadoop/yarn/nm-local-dir/usercache/root/appcache/application_1515468344211_0031/container_1515468344211_0031_01_000018/py4j-0.10.4-src.zip:/hadoop/yarn/nm-local-dir/usercache/root/appcache/application_1515468344211_0031/container_1515468344211_0031_01_000018/coffee_boat.zip:/hadoop/yarn/nm-local-dir/usercache/root/appcache/application_1515468344211_0031/container_1515468344211_0031_01_000018/coffee_boat_runner.sh',\n",
       "  ['tmp',\n",
       "   '__spark_conf__',\n",
       "   '.container_tokens.crc',\n",
       "   'pyspark.zip',\n",
       "   'default_container_executor_session.sh',\n",
       "   '.default_container_executor.sh.crc',\n",
       "   '.launch_container.sh.crc',\n",
       "   '.default_container_executor_session.sh.crc',\n",
       "   'coffee_boat_runner.sh',\n",
       "   'default_container_executor.sh',\n",
       "   'py4j-0.10.4-src.zip',\n",
       "   'launch_container.sh',\n",
       "   'container_tokens']),\n",
       " (2,\n",
       "  'boo-na-2-sw-d821\\n',\n",
       "  '/usr/lib/spark/jars/spark-core_2.11-2.2.0.jar:/env/python:/usr/lib/spark/python/lib/pyspark.zip:/usr/lib/spark/python/lib/py4j-0.10.4-src.zip:/hadoop/yarn/nm-local-dir/usercache/root/appcache/application_1515468344211_0031/container_1515468344211_0031_01_000018/pyspark.zip:/hadoop/yarn/nm-local-dir/usercache/root/appcache/application_1515468344211_0031/container_1515468344211_0031_01_000018/py4j-0.10.4-src.zip:/hadoop/yarn/nm-local-dir/usercache/root/appcache/application_1515468344211_0031/container_1515468344211_0031_01_000018/coffee_boat.zip:/hadoop/yarn/nm-local-dir/usercache/root/appcache/application_1515468344211_0031/container_1515468344211_0031_01_000018/coffee_boat_runner.sh',\n",
       "  ['tmp',\n",
       "   '__spark_conf__',\n",
       "   '.container_tokens.crc',\n",
       "   'pyspark.zip',\n",
       "   'default_container_executor_session.sh',\n",
       "   '.default_container_executor.sh.crc',\n",
       "   '.launch_container.sh.crc',\n",
       "   '.default_container_executor_session.sh.crc',\n",
       "   'coffee_boat_runner.sh',\n",
       "   'default_container_executor.sh',\n",
       "   'py4j-0.10.4-src.zip',\n",
       "   'launch_container.sh',\n",
       "   'container_tokens']),\n",
       " (3,\n",
       "  'boo-na-2-sw-d821\\n',\n",
       "  '/usr/lib/spark/jars/spark-core_2.11-2.2.0.jar:/env/python:/usr/lib/spark/python/lib/pyspark.zip:/usr/lib/spark/python/lib/py4j-0.10.4-src.zip:/hadoop/yarn/nm-local-dir/usercache/root/appcache/application_1515468344211_0031/container_1515468344211_0031_01_000018/pyspark.zip:/hadoop/yarn/nm-local-dir/usercache/root/appcache/application_1515468344211_0031/container_1515468344211_0031_01_000018/py4j-0.10.4-src.zip:/hadoop/yarn/nm-local-dir/usercache/root/appcache/application_1515468344211_0031/container_1515468344211_0031_01_000018/coffee_boat.zip:/hadoop/yarn/nm-local-dir/usercache/root/appcache/application_1515468344211_0031/container_1515468344211_0031_01_000018/coffee_boat_runner.sh',\n",
       "  ['tmp',\n",
       "   '__spark_conf__',\n",
       "   '.container_tokens.crc',\n",
       "   'pyspark.zip',\n",
       "   'default_container_executor_session.sh',\n",
       "   '.default_container_executor.sh.crc',\n",
       "   '.launch_container.sh.crc',\n",
       "   '.default_container_executor_session.sh.crc',\n",
       "   'coffee_boat_runner.sh',\n",
       "   'default_container_executor.sh',\n",
       "   'py4j-0.10.4-src.zip',\n",
       "   'launch_container.sh',\n",
       "   'container_tokens']),\n",
       " (4,\n",
       "  'boo-na-2-sw-d821\\n',\n",
       "  '/usr/lib/spark/jars/spark-core_2.11-2.2.0.jar:/env/python:/usr/lib/spark/python/lib/pyspark.zip:/usr/lib/spark/python/lib/py4j-0.10.4-src.zip:/hadoop/yarn/nm-local-dir/usercache/root/appcache/application_1515468344211_0031/container_1515468344211_0031_01_000018/pyspark.zip:/hadoop/yarn/nm-local-dir/usercache/root/appcache/application_1515468344211_0031/container_1515468344211_0031_01_000018/py4j-0.10.4-src.zip:/hadoop/yarn/nm-local-dir/usercache/root/appcache/application_1515468344211_0031/container_1515468344211_0031_01_000018/coffee_boat.zip:/hadoop/yarn/nm-local-dir/usercache/root/appcache/application_1515468344211_0031/container_1515468344211_0031_01_000018/coffee_boat_runner.sh',\n",
       "  ['tmp',\n",
       "   '__spark_conf__',\n",
       "   '.container_tokens.crc',\n",
       "   'pyspark.zip',\n",
       "   'default_container_executor_session.sh',\n",
       "   '.default_container_executor.sh.crc',\n",
       "   '.launch_container.sh.crc',\n",
       "   '.default_container_executor_session.sh.crc',\n",
       "   'coffee_boat_runner.sh',\n",
       "   'default_container_executor.sh',\n",
       "   'py4j-0.10.4-src.zip',\n",
       "   'launch_container.sh',\n",
       "   'container_tokens']),\n",
       " (5,\n",
       "  'boo-na-2-sw-whz5\\n',\n",
       "  '/usr/lib/spark/jars/spark-core_2.11-2.2.0.jar:/env/python:/usr/lib/spark/python/lib/pyspark.zip:/usr/lib/spark/python/lib/py4j-0.10.4-src.zip:/hadoop/yarn/nm-local-dir/usercache/root/appcache/application_1515468344211_0031/container_1515468344211_0031_01_000035/pyspark.zip:/hadoop/yarn/nm-local-dir/usercache/root/appcache/application_1515468344211_0031/container_1515468344211_0031_01_000035/py4j-0.10.4-src.zip:/hadoop/yarn/nm-local-dir/usercache/root/appcache/application_1515468344211_0031/container_1515468344211_0031_01_000035/coffee_boat.zip:/hadoop/yarn/nm-local-dir/usercache/root/appcache/application_1515468344211_0031/container_1515468344211_0031_01_000035/coffee_boat_runner.sh',\n",
       "  ['tmp',\n",
       "   '__spark_conf__',\n",
       "   '.container_tokens.crc',\n",
       "   'pyspark.zip',\n",
       "   'default_container_executor_session.sh',\n",
       "   '.default_container_executor.sh.crc',\n",
       "   '.launch_container.sh.crc',\n",
       "   '.default_container_executor_session.sh.crc',\n",
       "   'coffee_boat_runner.sh',\n",
       "   'default_container_executor.sh',\n",
       "   'py4j-0.10.4-src.zip',\n",
       "   'launch_container.sh',\n",
       "   'container_tokens']),\n",
       " (6,\n",
       "  'boo-na-2-sw-whz5\\n',\n",
       "  '/usr/lib/spark/jars/spark-core_2.11-2.2.0.jar:/env/python:/usr/lib/spark/python/lib/pyspark.zip:/usr/lib/spark/python/lib/py4j-0.10.4-src.zip:/hadoop/yarn/nm-local-dir/usercache/root/appcache/application_1515468344211_0031/container_1515468344211_0031_01_000035/pyspark.zip:/hadoop/yarn/nm-local-dir/usercache/root/appcache/application_1515468344211_0031/container_1515468344211_0031_01_000035/py4j-0.10.4-src.zip:/hadoop/yarn/nm-local-dir/usercache/root/appcache/application_1515468344211_0031/container_1515468344211_0031_01_000035/coffee_boat.zip:/hadoop/yarn/nm-local-dir/usercache/root/appcache/application_1515468344211_0031/container_1515468344211_0031_01_000035/coffee_boat_runner.sh',\n",
       "  ['tmp',\n",
       "   '__spark_conf__',\n",
       "   '.container_tokens.crc',\n",
       "   'pyspark.zip',\n",
       "   'default_container_executor_session.sh',\n",
       "   '.default_container_executor.sh.crc',\n",
       "   '.launch_container.sh.crc',\n",
       "   '.default_container_executor_session.sh.crc',\n",
       "   'coffee_boat_runner.sh',\n",
       "   'default_container_executor.sh',\n",
       "   'py4j-0.10.4-src.zip',\n",
       "   'launch_container.sh',\n",
       "   'container_tokens']),\n",
       " (7,\n",
       "  'boo-na-2-sw-whz5\\n',\n",
       "  '/usr/lib/spark/jars/spark-core_2.11-2.2.0.jar:/env/python:/usr/lib/spark/python/lib/pyspark.zip:/usr/lib/spark/python/lib/py4j-0.10.4-src.zip:/hadoop/yarn/nm-local-dir/usercache/root/appcache/application_1515468344211_0031/container_1515468344211_0031_01_000035/pyspark.zip:/hadoop/yarn/nm-local-dir/usercache/root/appcache/application_1515468344211_0031/container_1515468344211_0031_01_000035/py4j-0.10.4-src.zip:/hadoop/yarn/nm-local-dir/usercache/root/appcache/application_1515468344211_0031/container_1515468344211_0031_01_000035/coffee_boat.zip:/hadoop/yarn/nm-local-dir/usercache/root/appcache/application_1515468344211_0031/container_1515468344211_0031_01_000035/coffee_boat_runner.sh',\n",
       "  ['tmp',\n",
       "   '__spark_conf__',\n",
       "   '.container_tokens.crc',\n",
       "   'pyspark.zip',\n",
       "   'default_container_executor_session.sh',\n",
       "   '.default_container_executor.sh.crc',\n",
       "   '.launch_container.sh.crc',\n",
       "   '.default_container_executor_session.sh.crc',\n",
       "   'coffee_boat_runner.sh',\n",
       "   'default_container_executor.sh',\n",
       "   'py4j-0.10.4-src.zip',\n",
       "   'launch_container.sh',\n",
       "   'container_tokens']),\n",
       " (8,\n",
       "  'boo-na-2-sw-whz5\\n',\n",
       "  '/usr/lib/spark/jars/spark-core_2.11-2.2.0.jar:/env/python:/usr/lib/spark/python/lib/pyspark.zip:/usr/lib/spark/python/lib/py4j-0.10.4-src.zip:/hadoop/yarn/nm-local-dir/usercache/root/appcache/application_1515468344211_0031/container_1515468344211_0031_01_000035/pyspark.zip:/hadoop/yarn/nm-local-dir/usercache/root/appcache/application_1515468344211_0031/container_1515468344211_0031_01_000035/py4j-0.10.4-src.zip:/hadoop/yarn/nm-local-dir/usercache/root/appcache/application_1515468344211_0031/container_1515468344211_0031_01_000035/coffee_boat.zip:/hadoop/yarn/nm-local-dir/usercache/root/appcache/application_1515468344211_0031/container_1515468344211_0031_01_000035/coffee_boat_runner.sh',\n",
       "  ['tmp',\n",
       "   '__spark_conf__',\n",
       "   '.container_tokens.crc',\n",
       "   'pyspark.zip',\n",
       "   'default_container_executor_session.sh',\n",
       "   '.default_container_executor.sh.crc',\n",
       "   '.launch_container.sh.crc',\n",
       "   '.default_container_executor_session.sh.crc',\n",
       "   'coffee_boat_runner.sh',\n",
       "   'default_container_executor.sh',\n",
       "   'py4j-0.10.4-src.zip',\n",
       "   'launch_container.sh',\n",
       "   'container_tokens']),\n",
       " (9,\n",
       "  'boo-na-2-sw-whz5\\n',\n",
       "  '/usr/lib/spark/jars/spark-core_2.11-2.2.0.jar:/env/python:/usr/lib/spark/python/lib/pyspark.zip:/usr/lib/spark/python/lib/py4j-0.10.4-src.zip:/hadoop/yarn/nm-local-dir/usercache/root/appcache/application_1515468344211_0031/container_1515468344211_0031_01_000035/pyspark.zip:/hadoop/yarn/nm-local-dir/usercache/root/appcache/application_1515468344211_0031/container_1515468344211_0031_01_000035/py4j-0.10.4-src.zip:/hadoop/yarn/nm-local-dir/usercache/root/appcache/application_1515468344211_0031/container_1515468344211_0031_01_000035/coffee_boat.zip:/hadoop/yarn/nm-local-dir/usercache/root/appcache/application_1515468344211_0031/container_1515468344211_0031_01_000035/coffee_boat_runner.sh',\n",
       "  ['tmp',\n",
       "   '__spark_conf__',\n",
       "   '.container_tokens.crc',\n",
       "   'pyspark.zip',\n",
       "   'default_container_executor_session.sh',\n",
       "   '.default_container_executor.sh.crc',\n",
       "   '.launch_container.sh.crc',\n",
       "   '.default_container_executor_session.sh.crc',\n",
       "   'coffee_boat_runner.sh',\n",
       "   'default_container_executor.sh',\n",
       "   'py4j-0.10.4-src.zip',\n",
       "   'launch_container.sh',\n",
       "   'container_tokens'])]"
      ]
     },
     "execution_count": 28,
     "metadata": {},
     "output_type": "execute_result"
    }
   ],
   "source": [
    "import os\n",
    "def info(x):\n",
    "  import subprocess\n",
    "  import os\n",
    "  return (x, subprocess.check_output(\"hostname\"), os.environ['PYTHONPATH'], os.listdir('.'))\n",
    "\n",
    "rdd.map(info).collect()"
   ]
  },
  {
   "cell_type": "code",
   "execution_count": null,
   "metadata": {
    "collapsed": false
   },
   "outputs": [],
   "source": []
  },
  {
   "cell_type": "code",
   "execution_count": null,
   "metadata": {
    "collapsed": true
   },
   "outputs": [],
   "source": []
  }
 ],
 "metadata": {
  "kernelspec": {
   "display_name": "Python 2",
   "language": "python",
   "name": "python2"
  },
  "language_info": {
   "codemirror_mode": {
    "name": "ipython",
    "version": 2
   },
   "file_extension": ".py",
   "mimetype": "text/x-python",
   "name": "python",
   "nbconvert_exporter": "python",
   "pygments_lexer": "ipython2",
   "version": "2.7.12"
  }
 },
 "nbformat": 4,
 "nbformat_minor": 2
}
