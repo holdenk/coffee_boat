{
 "cells": [
  {
   "cell_type": "code",
   "execution_count": 1,
   "metadata": {
    "collapsed": false
   },
   "outputs": [
    {
     "data": {
      "text/html": [
       "\n",
       "          <script src=\"/static/components/requirejs/require.js\"></script>\n",
       "          <script>\n",
       "            requirejs.config({\n",
       "              paths: {\n",
       "                base: '/static/base',\n",
       "              },\n",
       "            });\n",
       "          </script>\n",
       "          "
      ],
      "text/plain": [
       "<IPython.core.display.HTML object>"
      ]
     },
     "metadata": {},
     "output_type": "display_data"
    },
    {
     "name": "stdout",
     "output_type": "stream",
     "text": [
      "rm: cannot remove '/usr/lib/spark/python/pyspark/shell.py': No such file or directory\r\n",
      "No startup script, yay!\r\n"
     ]
    }
   ],
   "source": [
    "# If your working in datalab inside of dataproc they auto start PySpark, which is great -- except we need to kill it first\n",
    "!rm /usr/lib/spark/python/pyspark/shell.py && echo \"Please restart your kernel, PySpark was already loaded :(\" || echo \"No startup script, yay!\""
   ]
  },
  {
   "cell_type": "code",
   "execution_count": 2,
   "metadata": {
    "collapsed": false
   },
   "outputs": [
    {
     "data": {
      "text/html": [
       "\n",
       "          <script src=\"/static/components/requirejs/require.js\"></script>\n",
       "          <script>\n",
       "            requirejs.config({\n",
       "              paths: {\n",
       "                base: '/static/base',\n",
       "              },\n",
       "            });\n",
       "          </script>\n",
       "          "
      ],
      "text/plain": [
       "<IPython.core.display.HTML object>"
      ]
     },
     "metadata": {},
     "output_type": "display_data"
    }
   ],
   "source": [
    "assert('sc' not in globals())"
   ]
  },
  {
   "cell_type": "code",
   "execution_count": 3,
   "metadata": {
    "collapsed": false
   },
   "outputs": [
    {
     "data": {
      "text/html": [
       "\n",
       "          <script src=\"/static/components/requirejs/require.js\"></script>\n",
       "          <script>\n",
       "            requirejs.config({\n",
       "              paths: {\n",
       "                base: '/static/base',\n",
       "              },\n",
       "            });\n",
       "          </script>\n",
       "          "
      ],
      "text/plain": [
       "<IPython.core.display.HTML object>"
      ]
     },
     "metadata": {},
     "output_type": "display_data"
    },
    {
     "name": "stdout",
     "output_type": "stream",
     "text": [
      "Requirement already satisfied: pyspark in /usr/local/lib/python2.7/dist-packages\r\n",
      "Requirement already satisfied: py4j==0.10.4 in /usr/local/lib/python2.7/dist-packages (from pyspark)\r\n"
     ]
    }
   ],
   "source": [
    "# Install PySpark, note: you don't want to install PySpark with coffee boat\n",
    "!pip install pyspark"
   ]
  },
  {
   "cell_type": "code",
   "execution_count": 4,
   "metadata": {
    "collapsed": false
   },
   "outputs": [
    {
     "data": {
      "text/html": [
       "\n",
       "          <script src=\"/static/components/requirejs/require.js\"></script>\n",
       "          <script>\n",
       "            requirejs.config({\n",
       "              paths: {\n",
       "                base: '/static/base',\n",
       "              },\n",
       "            });\n",
       "          </script>\n",
       "          "
      ],
      "text/plain": [
       "<IPython.core.display.HTML object>"
      ]
     },
     "metadata": {},
     "output_type": "display_data"
    },
    {
     "name": "stdout",
     "output_type": "stream",
     "text": [
      "Uninstalling edtf-2.7.0:\r\n",
      "  Successfully uninstalled edtf-2.7.0\r\n"
     ]
    }
   ],
   "source": [
    "!pip uninstall -y edtf"
   ]
  },
  {
   "cell_type": "code",
   "execution_count": 5,
   "metadata": {
    "collapsed": false
   },
   "outputs": [
    {
     "data": {
      "text/html": [
       "\n",
       "          <script src=\"/static/components/requirejs/require.js\"></script>\n",
       "          <script>\n",
       "            requirejs.config({\n",
       "              paths: {\n",
       "                base: '/static/base',\n",
       "              },\n",
       "            });\n",
       "          </script>\n",
       "          "
      ],
      "text/plain": [
       "<IPython.core.display.HTML object>"
      ]
     },
     "metadata": {},
     "output_type": "display_data"
    }
   ],
   "source": [
    "from pyspark.context import *"
   ]
  },
  {
   "cell_type": "code",
   "execution_count": 6,
   "metadata": {
    "collapsed": false
   },
   "outputs": [
    {
     "data": {
      "text/html": [
       "\n",
       "          <script src=\"/static/components/requirejs/require.js\"></script>\n",
       "          <script>\n",
       "            requirejs.config({\n",
       "              paths: {\n",
       "                base: '/static/base',\n",
       "              },\n",
       "            });\n",
       "          </script>\n",
       "          "
      ],
      "text/plain": [
       "<IPython.core.display.HTML object>"
      ]
     },
     "metadata": {},
     "output_type": "display_data"
    },
    {
     "name": "stdout",
     "output_type": "stream",
     "text": [
      "fatal: destination path 'coffee_boat' already exists and is not an empty directory.\n",
      "remote: Counting objects: 12, done.\u001b[K\n",
      "remote: Compressing objects: 100% (8/8), done.\u001b[K\n",
      "remote: Total 12 (delta 5), reused 11 (delta 4), pack-reused 0\u001b[K\n",
      "Unpacking objects: 100% (12/12), done.\n",
      "From https://github.com/holdenk/coffee_boat\n",
      "   6f1700a..222a903  improve-logging-on-fail -> origin/improve-logging-on-fail\n",
      "Updating 6f1700a..222a903\n",
      "Fast-forward\n",
      " coffee_boat/captain.py | 21 \u001b[32m+++++++++\u001b[m\u001b[31m------------\u001b[m\n",
      " 1 file changed, 9 insertions(+), 12 deletions(-)\n",
      "Already on 'improve-logging-on-fail'\n",
      "Your branch is up-to-date with 'origin/improve-logging-on-fail'.\n",
      "Already up-to-date.\n",
      "Obtaining file:///content/datalab/notebooks/coffee_boat\n",
      "Installing collected packages: coffee-boat\n",
      "  Found existing installation: coffee-boat 0.0.1\n",
      "    Can't uninstall 'coffee-boat'. No files were found to uninstall.\n",
      "  Running setup.py develop for coffee-boat\n",
      "Successfully installed coffee-boat\n"
     ]
    }
   ],
   "source": [
    "# Clone cofee boat in\n",
    "# \"Production\":\n",
    "# !pip install --upgrade git+https://github.com/nteract/coffee_boat.git\n",
    "# Dev:\n",
    "!git clone git+https://github.com/holdenk/coffee_boat.git; cd coffee_boat && git pull && git checkout improve-logging-on-fail && git pull && pip install --upgrade -e .\n"
   ]
  },
  {
   "cell_type": "code",
   "execution_count": 7,
   "metadata": {
    "collapsed": false
   },
   "outputs": [
    {
     "data": {
      "text/html": [
       "\n",
       "          <script src=\"/static/components/requirejs/require.js\"></script>\n",
       "          <script>\n",
       "            requirejs.config({\n",
       "              paths: {\n",
       "                base: '/static/base',\n",
       "              },\n",
       "            });\n",
       "          </script>\n",
       "          "
      ],
      "text/plain": [
       "<IPython.core.display.HTML object>"
      ]
     },
     "metadata": {},
     "output_type": "display_data"
    }
   ],
   "source": [
    "from coffee_boat import Captain"
   ]
  },
  {
   "cell_type": "code",
   "execution_count": 8,
   "metadata": {
    "collapsed": false
   },
   "outputs": [
    {
     "data": {
      "text/html": [
       "\n",
       "          <script src=\"/static/components/requirejs/require.js\"></script>\n",
       "          <script>\n",
       "            requirejs.config({\n",
       "              paths: {\n",
       "                base: '/static/base',\n",
       "              },\n",
       "            });\n",
       "          </script>\n",
       "          "
      ],
      "text/plain": [
       "<IPython.core.display.HTML object>"
      ]
     },
     "metadata": {},
     "output_type": "display_data"
    }
   ],
   "source": [
    "captain = Captain(accept_conda_license=True)"
   ]
  },
  {
   "cell_type": "code",
   "execution_count": 9,
   "metadata": {
    "collapsed": false
   },
   "outputs": [
    {
     "data": {
      "text/html": [
       "\n",
       "          <script src=\"/static/components/requirejs/require.js\"></script>\n",
       "          <script>\n",
       "            requirejs.config({\n",
       "              paths: {\n",
       "                base: '/static/base',\n",
       "              },\n",
       "            });\n",
       "          </script>\n",
       "          "
      ],
      "text/plain": [
       "<IPython.core.display.HTML object>"
      ]
     },
     "metadata": {},
     "output_type": "display_data"
    }
   ],
   "source": [
    "# Failed import\n",
    "#import \tedtf"
   ]
  },
  {
   "cell_type": "code",
   "execution_count": 10,
   "metadata": {
    "collapsed": false
   },
   "outputs": [
    {
     "data": {
      "text/html": [
       "\n",
       "          <script src=\"/static/components/requirejs/require.js\"></script>\n",
       "          <script>\n",
       "            requirejs.config({\n",
       "              paths: {\n",
       "                base: '/static/base',\n",
       "              },\n",
       "            });\n",
       "          </script>\n",
       "          "
      ],
      "text/plain": [
       "<IPython.core.display.HTML object>"
      ]
     },
     "metadata": {},
     "output_type": "display_data"
    }
   ],
   "source": [
    "# Successful import\n",
    "import nbconvert"
   ]
  },
  {
   "cell_type": "code",
   "execution_count": 11,
   "metadata": {
    "collapsed": false
   },
   "outputs": [
    {
     "data": {
      "text/html": [
       "\n",
       "          <script src=\"/static/components/requirejs/require.js\"></script>\n",
       "          <script>\n",
       "            requirejs.config({\n",
       "              paths: {\n",
       "                base: '/static/base',\n",
       "              },\n",
       "            });\n",
       "          </script>\n",
       "          "
      ],
      "text/plain": [
       "<IPython.core.display.HTML object>"
      ]
     },
     "metadata": {},
     "output_type": "display_data"
    },
    {
     "data": {
      "text/plain": [
       "''"
      ]
     },
     "execution_count": 11,
     "metadata": {},
     "output_type": "execute_result"
    }
   ],
   "source": [
    "sc"
   ]
  },
  {
   "cell_type": "code",
   "execution_count": 12,
   "metadata": {
    "collapsed": false
   },
   "outputs": [
    {
     "data": {
      "text/html": [
       "\n",
       "          <script src=\"/static/components/requirejs/require.js\"></script>\n",
       "          <script>\n",
       "            requirejs.config({\n",
       "              paths: {\n",
       "                base: '/static/base',\n",
       "              },\n",
       "            });\n",
       "          </script>\n",
       "          "
      ],
      "text/plain": [
       "<IPython.core.display.HTML object>"
      ]
     },
     "metadata": {},
     "output_type": "display_data"
    },
    {
     "name": "stdout",
     "output_type": "stream",
     "text": [
      "Adding package to requirements. Remember to launch coffee boat beforestarting SparkContext.\n",
      "Installing package locally\n"
     ]
    }
   ],
   "source": [
    "captain.add_pip_packages(\"spark-testing-base\", \"edtf\")"
   ]
  },
  {
   "cell_type": "code",
   "execution_count": 13,
   "metadata": {
    "collapsed": false
   },
   "outputs": [
    {
     "data": {
      "text/html": [
       "\n",
       "          <script src=\"/static/components/requirejs/require.js\"></script>\n",
       "          <script>\n",
       "            requirejs.config({\n",
       "              paths: {\n",
       "                base: '/static/base',\n",
       "              },\n",
       "            });\n",
       "          </script>\n",
       "          "
      ],
      "text/plain": [
       "<IPython.core.display.HTML object>"
      ]
     },
     "metadata": {},
     "output_type": "display_data"
    }
   ],
   "source": [
    "import edtf"
   ]
  },
  {
   "cell_type": "code",
   "execution_count": 14,
   "metadata": {
    "collapsed": false
   },
   "outputs": [
    {
     "data": {
      "text/html": [
       "\n",
       "          <script src=\"/static/components/requirejs/require.js\"></script>\n",
       "          <script>\n",
       "            requirejs.config({\n",
       "              paths: {\n",
       "                base: '/static/base',\n",
       "              },\n",
       "            });\n",
       "          </script>\n",
       "          "
      ],
      "text/plain": [
       "<IPython.core.display.HTML object>"
      ]
     },
     "metadata": {},
     "output_type": "display_data"
    },
    {
     "name": "stdout",
     "output_type": "stream",
     "text": [
      "root      5492  0.0  0.0   4508   792 pts/0    Ss+  06:10   0:00 /bin/sh -c ps aux |grep spark\r\n",
      "root      5494  0.0  0.0  12944   960 pts/0    S+   06:10   0:00 grep spark\r\n"
     ]
    }
   ],
   "source": [
    "# Verify we aren't yet running PySpark\n",
    "if 'sc' in globals():\n",
    "  sc.stop\n",
    "!ps aux |grep spark"
   ]
  },
  {
   "cell_type": "code",
   "execution_count": 15,
   "metadata": {
    "collapsed": false
   },
   "outputs": [
    {
     "data": {
      "text/html": [
       "\n",
       "          <script src=\"/static/components/requirejs/require.js\"></script>\n",
       "          <script>\n",
       "            requirejs.config({\n",
       "              paths: {\n",
       "                base: '/static/base',\n",
       "              },\n",
       "            });\n",
       "          </script>\n",
       "          "
      ],
      "text/plain": [
       "<IPython.core.display.HTML object>"
      ]
     },
     "metadata": {},
     "output_type": "display_data"
    },
    {
     "name": "stdout",
     "output_type": "stream",
     "text": [
      "Downloading conda from https://repo.continuum.io/miniconda/Miniconda2-latest-Linux-x86_64.sh to /tmp/coffee_boat_tmp_BX66Ae\n",
      "Running conda setup....\n",
      "Writing package spec to /tmp/coffee_boat_tmp_BX66Ae/tmp6BNyKn.\n",
      "Creating conda env\n",
      "Packaging conda env\n",
      "Using runner script\n",
      "#!/bin/bash\n",
      "touch setup.lock # TODO: work with this\n",
      "echo \"Kicking off python runner coffee_boat_auto059d3708c86a4cabb4b5ebb049e308c1.zip\" > coffee_log.txt\n",
      "echo \"pwd looks like:\" >> coffee_log.txt\n",
      "ls >> coffee_log.txt\n",
      "echo \"k\" >> coffee_log.txt\n",
      "if [ -f coffee_boat_auto059d3708c86a4cabb4b5ebb049e308c1.zip ];\n",
      "then\n",
      "    echo \"Running setup\" >> coffee_log.txt\n",
      "    unzip coffee_boat_auto059d3708c86a4cabb4b5ebb049e308c1.zip &>> coffee_log.txt && rm coffee_boat_auto059d3708c86a4cabb4b5ebb049e308c1.zip &>> coffee_log.txt\n",
      "    # Since Conda isn't really fully relocatable...\n",
      "    echo \"Rewriting conda and pip python paths...\" >> coffee_log.txt\n",
      "    sed -i -e \"1s@.*@\\#\\!./tmp/coffee_boat_tmp_BX66Ae/auto059d3708c86a4cabb4b5ebb049e308c1/bin/python@\" ./tmp/coffee_boat_tmp_BX66Ae/auto059d3708c86a4cabb4b5ebb049e308c1/bin/conda >> coffee_log.txt\n",
      "    sed -i -e \"1s@.*@\\#\\!./tmp/coffee_boat_tmp_BX66Ae/auto059d3708c86a4cabb4b5ebb049e308c1/bin/python@\" ./tmp/coffee_boat_tmp_BX66Ae/auto059d3708c86a4cabb4b5ebb049e308c1/bin/pip >> coffee_log.txt\n",
      "fi\n",
      "cat magicCoffeeReq* > mini_req.txt &> /dev/null || true\n",
      "echo \"pip install\" >> coffee_log.txt\n",
      "./tmp/coffee_boat_tmp_BX66Ae/auto059d3708c86a4cabb4b5ebb049e308c1/bin/pip install -r mini_req.txt &>> coffee_log.txt\n",
      "export PATH=./tmp/coffee_boat_tmp_BX66Ae/auto059d3708c86a4cabb4b5ebb049e308c1/bin:$PATH\n",
      "./tmp/coffee_boat_tmp_BX66Ae/auto059d3708c86a4cabb4b5ebb049e308c1/bin/python \"$@\" || cat coffee_log.txt 1>&2 \n",
      "using --files /tmp/coffee_boat_tmp_BX66Ae/coffee_boat_auto059d3708c86a4cabb4b5ebb049e308c1.zip,/tmp/coffee_boat_tmp_BX66Ae/coffee_boat_runner_auto059d3708c86a4cabb4b5ebb049e308c1.sh pyspark-shell as python arguments\n",
      "No active context, depending on submit args.\n"
     ]
    }
   ],
   "source": [
    "captain.launch_ship()"
   ]
  },
  {
   "cell_type": "code",
   "execution_count": 16,
   "metadata": {
    "collapsed": false
   },
   "outputs": [
    {
     "data": {
      "text/html": [
       "\n",
       "          <script src=\"/static/components/requirejs/require.js\"></script>\n",
       "          <script>\n",
       "            requirejs.config({\n",
       "              paths: {\n",
       "                base: '/static/base',\n",
       "              },\n",
       "            });\n",
       "          </script>\n",
       "          "
      ],
      "text/plain": [
       "<IPython.core.display.HTML object>"
      ]
     },
     "metadata": {},
     "output_type": "display_data"
    },
    {
     "data": {
      "text/plain": [
       "('--files /tmp/coffee_boat_tmp_BX66Ae/coffee_boat_auto059d3708c86a4cabb4b5ebb049e308c1.zip,/tmp/coffee_boat_tmp_BX66Ae/coffee_boat_runner_auto059d3708c86a4cabb4b5ebb049e308c1.sh pyspark-shell',\n",
       " './coffee_boat_runner_auto059d3708c86a4cabb4b5ebb049e308c1.sh')"
      ]
     },
     "execution_count": 16,
     "metadata": {},
     "output_type": "execute_result"
    }
   ],
   "source": [
    "import os\n",
    "(os.environ['PYSPARK_SUBMIT_ARGS'], os.environ['PYSPARK_PYTHON'])"
   ]
  },
  {
   "cell_type": "code",
   "execution_count": 17,
   "metadata": {
    "collapsed": false
   },
   "outputs": [
    {
     "data": {
      "text/html": [
       "\n",
       "          <script src=\"/static/components/requirejs/require.js\"></script>\n",
       "          <script>\n",
       "            requirejs.config({\n",
       "              paths: {\n",
       "                base: '/static/base',\n",
       "              },\n",
       "            });\n",
       "          </script>\n",
       "          "
      ],
      "text/plain": [
       "<IPython.core.display.HTML object>"
      ]
     },
     "metadata": {},
     "output_type": "display_data"
    }
   ],
   "source": [
    "sc = SparkContext(master=\"yarn\")"
   ]
  },
  {
   "cell_type": "code",
   "execution_count": 18,
   "metadata": {
    "collapsed": false
   },
   "outputs": [
    {
     "data": {
      "text/html": [
       "\n",
       "          <script src=\"/static/components/requirejs/require.js\"></script>\n",
       "          <script>\n",
       "            requirejs.config({\n",
       "              paths: {\n",
       "                base: '/static/base',\n",
       "              },\n",
       "            });\n",
       "          </script>\n",
       "          "
      ],
      "text/plain": [
       "<IPython.core.display.HTML object>"
      ]
     },
     "metadata": {},
     "output_type": "display_data"
    },
    {
     "data": {
      "text/html": [
       "\n",
       "        <div>\n",
       "            <p><b>SparkContext</b></p>\n",
       "\n",
       "            <p><a href=\"http://10.128.0.7:4040\">Spark UI</a></p>\n",
       "\n",
       "            <dl>\n",
       "              <dt>Version</dt>\n",
       "                <dd><code>v2.2.0</code></dd>\n",
       "              <dt>Master</dt>\n",
       "                <dd><code>yarn</code></dd>\n",
       "              <dt>AppName</dt>\n",
       "                <dd><code>pyspark-shell</code></dd>\n",
       "            </dl>\n",
       "        </div>\n",
       "        "
      ],
      "text/plain": [
       "<SparkContext master=yarn appName=pyspark-shell>"
      ]
     },
     "execution_count": 18,
     "metadata": {},
     "output_type": "execute_result"
    }
   ],
   "source": [
    "sc"
   ]
  },
  {
   "cell_type": "code",
   "execution_count": 19,
   "metadata": {
    "collapsed": false
   },
   "outputs": [
    {
     "data": {
      "text/html": [
       "\n",
       "          <script src=\"/static/components/requirejs/require.js\"></script>\n",
       "          <script>\n",
       "            requirejs.config({\n",
       "              paths: {\n",
       "                base: '/static/base',\n",
       "              },\n",
       "            });\n",
       "          </script>\n",
       "          "
      ],
      "text/plain": [
       "<IPython.core.display.HTML object>"
      ]
     },
     "metadata": {},
     "output_type": "display_data"
    }
   ],
   "source": [
    "rdd = sc.parallelize(range(10))"
   ]
  },
  {
   "cell_type": "code",
   "execution_count": 20,
   "metadata": {
    "collapsed": false
   },
   "outputs": [
    {
     "data": {
      "text/html": [
       "\n",
       "          <script src=\"/static/components/requirejs/require.js\"></script>\n",
       "          <script>\n",
       "            requirejs.config({\n",
       "              paths: {\n",
       "                base: '/static/base',\n",
       "              },\n",
       "            });\n",
       "          </script>\n",
       "          "
      ],
      "text/plain": [
       "<IPython.core.display.HTML object>"
      ]
     },
     "metadata": {},
     "output_type": "display_data"
    },
    {
     "data": {
      "text/plain": [
       "[(0,\n",
       "  '/hadoop/yarn/nm-local-dir/usercache/root/appcache/application_1516589627335_0012/container_1516589627335_0012_01_000005/tmp/coffee_boat_tmp_BX66Ae/auto059d3708c86a4cabb4b5ebb049e308c1/bin/python'),\n",
       " (1,\n",
       "  '/hadoop/yarn/nm-local-dir/usercache/root/appcache/application_1516589627335_0012/container_1516589627335_0012_01_000005/tmp/coffee_boat_tmp_BX66Ae/auto059d3708c86a4cabb4b5ebb049e308c1/bin/python'),\n",
       " (2,\n",
       "  '/hadoop/yarn/nm-local-dir/usercache/root/appcache/application_1516589627335_0012/container_1516589627335_0012_01_000005/tmp/coffee_boat_tmp_BX66Ae/auto059d3708c86a4cabb4b5ebb049e308c1/bin/python'),\n",
       " (3,\n",
       "  '/hadoop/yarn/nm-local-dir/usercache/root/appcache/application_1516589627335_0012/container_1516589627335_0012_01_000005/tmp/coffee_boat_tmp_BX66Ae/auto059d3708c86a4cabb4b5ebb049e308c1/bin/python'),\n",
       " (4,\n",
       "  '/hadoop/yarn/nm-local-dir/usercache/root/appcache/application_1516589627335_0012/container_1516589627335_0012_01_000005/tmp/coffee_boat_tmp_BX66Ae/auto059d3708c86a4cabb4b5ebb049e308c1/bin/python'),\n",
       " (5,\n",
       "  '/hadoop/yarn/nm-local-dir/usercache/root/appcache/application_1516589627335_0012/container_1516589627335_0012_01_000005/tmp/coffee_boat_tmp_BX66Ae/auto059d3708c86a4cabb4b5ebb049e308c1/bin/python'),\n",
       " (6,\n",
       "  '/hadoop/yarn/nm-local-dir/usercache/root/appcache/application_1516589627335_0012/container_1516589627335_0012_01_000005/tmp/coffee_boat_tmp_BX66Ae/auto059d3708c86a4cabb4b5ebb049e308c1/bin/python'),\n",
       " (7,\n",
       "  '/hadoop/yarn/nm-local-dir/usercache/root/appcache/application_1516589627335_0012/container_1516589627335_0012_01_000005/tmp/coffee_boat_tmp_BX66Ae/auto059d3708c86a4cabb4b5ebb049e308c1/bin/python'),\n",
       " (8,\n",
       "  '/hadoop/yarn/nm-local-dir/usercache/root/appcache/application_1516589627335_0012/container_1516589627335_0012_01_000005/tmp/coffee_boat_tmp_BX66Ae/auto059d3708c86a4cabb4b5ebb049e308c1/bin/python'),\n",
       " (9,\n",
       "  '/hadoop/yarn/nm-local-dir/usercache/root/appcache/application_1516589627335_0012/container_1516589627335_0012_01_000005/tmp/coffee_boat_tmp_BX66Ae/auto059d3708c86a4cabb4b5ebb049e308c1/bin/python')]"
      ]
     },
     "execution_count": 20,
     "metadata": {},
     "output_type": "execute_result"
    }
   ],
   "source": [
    "import sys\n",
    "rdd.map(lambda x: (x, sys.executable)).collect()"
   ]
  },
  {
   "cell_type": "code",
   "execution_count": 21,
   "metadata": {
    "collapsed": false
   },
   "outputs": [
    {
     "data": {
      "text/html": [
       "\n",
       "          <script src=\"/static/components/requirejs/require.js\"></script>\n",
       "          <script>\n",
       "            requirejs.config({\n",
       "              paths: {\n",
       "                base: '/static/base',\n",
       "              },\n",
       "            });\n",
       "          </script>\n",
       "          "
      ],
      "text/plain": [
       "<IPython.core.display.HTML object>"
      ]
     },
     "metadata": {},
     "output_type": "display_data"
    },
    {
     "data": {
      "text/plain": [
       "u'yarn'"
      ]
     },
     "execution_count": 21,
     "metadata": {},
     "output_type": "execute_result"
    }
   ],
   "source": [
    "sc.master"
   ]
  },
  {
   "cell_type": "code",
   "execution_count": 22,
   "metadata": {
    "collapsed": false
   },
   "outputs": [
    {
     "data": {
      "text/html": [
       "\n",
       "          <script src=\"/static/components/requirejs/require.js\"></script>\n",
       "          <script>\n",
       "            requirejs.config({\n",
       "              paths: {\n",
       "                base: '/static/base',\n",
       "              },\n",
       "            });\n",
       "          </script>\n",
       "          "
      ],
      "text/plain": [
       "<IPython.core.display.HTML object>"
      ]
     },
     "metadata": {},
     "output_type": "display_data"
    },
    {
     "name": "stdout",
     "output_type": "stream",
     "text": [
      "boo-na-2-m\r\n"
     ]
    }
   ],
   "source": [
    "!hostname"
   ]
  },
  {
   "cell_type": "code",
   "execution_count": 23,
   "metadata": {
    "collapsed": false
   },
   "outputs": [
    {
     "data": {
      "text/html": [
       "\n",
       "          <script src=\"/static/components/requirejs/require.js\"></script>\n",
       "          <script>\n",
       "            requirejs.config({\n",
       "              paths: {\n",
       "                base: '/static/base',\n",
       "              },\n",
       "            });\n",
       "          </script>\n",
       "          "
      ],
      "text/plain": [
       "<IPython.core.display.HTML object>"
      ]
     },
     "metadata": {},
     "output_type": "display_data"
    },
    {
     "data": {
      "text/plain": [
       "[(0,\n",
       "  'boo-na-2-sw-2k31\\n',\n",
       "  '/usr/lib/spark/jars/spark-core_2.11-2.2.0.jar:/env/python:/usr/lib/spark/python/lib/pyspark.zip:/usr/lib/spark/python/lib/py4j-0.10.4-src.zip:/hadoop/yarn/nm-local-dir/usercache/root/appcache/application_1516589627335_0012/container_1516589627335_0012_01_000007/pyspark.zip:/hadoop/yarn/nm-local-dir/usercache/root/appcache/application_1516589627335_0012/container_1516589627335_0012_01_000007/py4j-0.10.4-src.zip',\n",
       "  ['tmp',\n",
       "   '__spark_conf__',\n",
       "   '.container_tokens.crc',\n",
       "   'pyspark.zip',\n",
       "   'coffee_log.txt',\n",
       "   'default_container_executor_session.sh',\n",
       "   '.default_container_executor.sh.crc',\n",
       "   'mini_req.txt',\n",
       "   'setup.lock',\n",
       "   '.launch_container.sh.crc',\n",
       "   '.default_container_executor_session.sh.crc',\n",
       "   'default_container_executor.sh',\n",
       "   'py4j-0.10.4-src.zip',\n",
       "   'launch_container.sh',\n",
       "   'container_tokens',\n",
       "   'coffee_boat_runner_auto059d3708c86a4cabb4b5ebb049e308c1.sh']),\n",
       " (1,\n",
       "  'boo-na-2-sw-2k31\\n',\n",
       "  '/usr/lib/spark/jars/spark-core_2.11-2.2.0.jar:/env/python:/usr/lib/spark/python/lib/pyspark.zip:/usr/lib/spark/python/lib/py4j-0.10.4-src.zip:/hadoop/yarn/nm-local-dir/usercache/root/appcache/application_1516589627335_0012/container_1516589627335_0012_01_000007/pyspark.zip:/hadoop/yarn/nm-local-dir/usercache/root/appcache/application_1516589627335_0012/container_1516589627335_0012_01_000007/py4j-0.10.4-src.zip',\n",
       "  ['tmp',\n",
       "   '__spark_conf__',\n",
       "   '.container_tokens.crc',\n",
       "   'pyspark.zip',\n",
       "   'coffee_log.txt',\n",
       "   'default_container_executor_session.sh',\n",
       "   '.default_container_executor.sh.crc',\n",
       "   'mini_req.txt',\n",
       "   'setup.lock',\n",
       "   '.launch_container.sh.crc',\n",
       "   '.default_container_executor_session.sh.crc',\n",
       "   'default_container_executor.sh',\n",
       "   'py4j-0.10.4-src.zip',\n",
       "   'launch_container.sh',\n",
       "   'container_tokens',\n",
       "   'coffee_boat_runner_auto059d3708c86a4cabb4b5ebb049e308c1.sh']),\n",
       " (2,\n",
       "  'boo-na-2-sw-2k31\\n',\n",
       "  '/usr/lib/spark/jars/spark-core_2.11-2.2.0.jar:/env/python:/usr/lib/spark/python/lib/pyspark.zip:/usr/lib/spark/python/lib/py4j-0.10.4-src.zip:/hadoop/yarn/nm-local-dir/usercache/root/appcache/application_1516589627335_0012/container_1516589627335_0012_01_000007/pyspark.zip:/hadoop/yarn/nm-local-dir/usercache/root/appcache/application_1516589627335_0012/container_1516589627335_0012_01_000007/py4j-0.10.4-src.zip',\n",
       "  ['tmp',\n",
       "   '__spark_conf__',\n",
       "   '.container_tokens.crc',\n",
       "   'pyspark.zip',\n",
       "   'coffee_log.txt',\n",
       "   'default_container_executor_session.sh',\n",
       "   '.default_container_executor.sh.crc',\n",
       "   'mini_req.txt',\n",
       "   'setup.lock',\n",
       "   '.launch_container.sh.crc',\n",
       "   '.default_container_executor_session.sh.crc',\n",
       "   'default_container_executor.sh',\n",
       "   'py4j-0.10.4-src.zip',\n",
       "   'launch_container.sh',\n",
       "   'container_tokens',\n",
       "   'coffee_boat_runner_auto059d3708c86a4cabb4b5ebb049e308c1.sh']),\n",
       " (3,\n",
       "  'boo-na-2-sw-2k31\\n',\n",
       "  '/usr/lib/spark/jars/spark-core_2.11-2.2.0.jar:/env/python:/usr/lib/spark/python/lib/pyspark.zip:/usr/lib/spark/python/lib/py4j-0.10.4-src.zip:/hadoop/yarn/nm-local-dir/usercache/root/appcache/application_1516589627335_0012/container_1516589627335_0012_01_000007/pyspark.zip:/hadoop/yarn/nm-local-dir/usercache/root/appcache/application_1516589627335_0012/container_1516589627335_0012_01_000007/py4j-0.10.4-src.zip',\n",
       "  ['tmp',\n",
       "   '__spark_conf__',\n",
       "   '.container_tokens.crc',\n",
       "   'pyspark.zip',\n",
       "   'coffee_log.txt',\n",
       "   'default_container_executor_session.sh',\n",
       "   '.default_container_executor.sh.crc',\n",
       "   'mini_req.txt',\n",
       "   'setup.lock',\n",
       "   '.launch_container.sh.crc',\n",
       "   '.default_container_executor_session.sh.crc',\n",
       "   'default_container_executor.sh',\n",
       "   'py4j-0.10.4-src.zip',\n",
       "   'launch_container.sh',\n",
       "   'container_tokens',\n",
       "   'coffee_boat_runner_auto059d3708c86a4cabb4b5ebb049e308c1.sh']),\n",
       " (4,\n",
       "  'boo-na-2-sw-2k31\\n',\n",
       "  '/usr/lib/spark/jars/spark-core_2.11-2.2.0.jar:/env/python:/usr/lib/spark/python/lib/pyspark.zip:/usr/lib/spark/python/lib/py4j-0.10.4-src.zip:/hadoop/yarn/nm-local-dir/usercache/root/appcache/application_1516589627335_0012/container_1516589627335_0012_01_000007/pyspark.zip:/hadoop/yarn/nm-local-dir/usercache/root/appcache/application_1516589627335_0012/container_1516589627335_0012_01_000007/py4j-0.10.4-src.zip',\n",
       "  ['tmp',\n",
       "   '__spark_conf__',\n",
       "   '.container_tokens.crc',\n",
       "   'pyspark.zip',\n",
       "   'coffee_log.txt',\n",
       "   'default_container_executor_session.sh',\n",
       "   '.default_container_executor.sh.crc',\n",
       "   'mini_req.txt',\n",
       "   'setup.lock',\n",
       "   '.launch_container.sh.crc',\n",
       "   '.default_container_executor_session.sh.crc',\n",
       "   'default_container_executor.sh',\n",
       "   'py4j-0.10.4-src.zip',\n",
       "   'launch_container.sh',\n",
       "   'container_tokens',\n",
       "   'coffee_boat_runner_auto059d3708c86a4cabb4b5ebb049e308c1.sh']),\n",
       " (5,\n",
       "  'boo-na-2-sw-crls\\n',\n",
       "  '/usr/lib/spark/jars/spark-core_2.11-2.2.0.jar:/env/python:/usr/lib/spark/python/lib/pyspark.zip:/usr/lib/spark/python/lib/py4j-0.10.4-src.zip:/hadoop/yarn/nm-local-dir/usercache/root/appcache/application_1516589627335_0012/container_1516589627335_0012_01_000013/pyspark.zip:/hadoop/yarn/nm-local-dir/usercache/root/appcache/application_1516589627335_0012/container_1516589627335_0012_01_000013/py4j-0.10.4-src.zip',\n",
       "  ['tmp',\n",
       "   '__spark_conf__',\n",
       "   '.container_tokens.crc',\n",
       "   'pyspark.zip',\n",
       "   'coffee_log.txt',\n",
       "   'default_container_executor_session.sh',\n",
       "   '.default_container_executor.sh.crc',\n",
       "   'mini_req.txt',\n",
       "   'setup.lock',\n",
       "   '.launch_container.sh.crc',\n",
       "   '.default_container_executor_session.sh.crc',\n",
       "   'default_container_executor.sh',\n",
       "   'py4j-0.10.4-src.zip',\n",
       "   'launch_container.sh',\n",
       "   'container_tokens',\n",
       "   'coffee_boat_runner_auto059d3708c86a4cabb4b5ebb049e308c1.sh']),\n",
       " (6,\n",
       "  'boo-na-2-sw-crls\\n',\n",
       "  '/usr/lib/spark/jars/spark-core_2.11-2.2.0.jar:/env/python:/usr/lib/spark/python/lib/pyspark.zip:/usr/lib/spark/python/lib/py4j-0.10.4-src.zip:/hadoop/yarn/nm-local-dir/usercache/root/appcache/application_1516589627335_0012/container_1516589627335_0012_01_000013/pyspark.zip:/hadoop/yarn/nm-local-dir/usercache/root/appcache/application_1516589627335_0012/container_1516589627335_0012_01_000013/py4j-0.10.4-src.zip',\n",
       "  ['tmp',\n",
       "   '__spark_conf__',\n",
       "   '.container_tokens.crc',\n",
       "   'pyspark.zip',\n",
       "   'coffee_log.txt',\n",
       "   'default_container_executor_session.sh',\n",
       "   '.default_container_executor.sh.crc',\n",
       "   'mini_req.txt',\n",
       "   'setup.lock',\n",
       "   '.launch_container.sh.crc',\n",
       "   '.default_container_executor_session.sh.crc',\n",
       "   'default_container_executor.sh',\n",
       "   'py4j-0.10.4-src.zip',\n",
       "   'launch_container.sh',\n",
       "   'container_tokens',\n",
       "   'coffee_boat_runner_auto059d3708c86a4cabb4b5ebb049e308c1.sh']),\n",
       " (7,\n",
       "  'boo-na-2-sw-crls\\n',\n",
       "  '/usr/lib/spark/jars/spark-core_2.11-2.2.0.jar:/env/python:/usr/lib/spark/python/lib/pyspark.zip:/usr/lib/spark/python/lib/py4j-0.10.4-src.zip:/hadoop/yarn/nm-local-dir/usercache/root/appcache/application_1516589627335_0012/container_1516589627335_0012_01_000013/pyspark.zip:/hadoop/yarn/nm-local-dir/usercache/root/appcache/application_1516589627335_0012/container_1516589627335_0012_01_000013/py4j-0.10.4-src.zip',\n",
       "  ['tmp',\n",
       "   '__spark_conf__',\n",
       "   '.container_tokens.crc',\n",
       "   'pyspark.zip',\n",
       "   'coffee_log.txt',\n",
       "   'default_container_executor_session.sh',\n",
       "   '.default_container_executor.sh.crc',\n",
       "   'mini_req.txt',\n",
       "   'setup.lock',\n",
       "   '.launch_container.sh.crc',\n",
       "   '.default_container_executor_session.sh.crc',\n",
       "   'default_container_executor.sh',\n",
       "   'py4j-0.10.4-src.zip',\n",
       "   'launch_container.sh',\n",
       "   'container_tokens',\n",
       "   'coffee_boat_runner_auto059d3708c86a4cabb4b5ebb049e308c1.sh']),\n",
       " (8,\n",
       "  'boo-na-2-sw-crls\\n',\n",
       "  '/usr/lib/spark/jars/spark-core_2.11-2.2.0.jar:/env/python:/usr/lib/spark/python/lib/pyspark.zip:/usr/lib/spark/python/lib/py4j-0.10.4-src.zip:/hadoop/yarn/nm-local-dir/usercache/root/appcache/application_1516589627335_0012/container_1516589627335_0012_01_000013/pyspark.zip:/hadoop/yarn/nm-local-dir/usercache/root/appcache/application_1516589627335_0012/container_1516589627335_0012_01_000013/py4j-0.10.4-src.zip',\n",
       "  ['tmp',\n",
       "   '__spark_conf__',\n",
       "   '.container_tokens.crc',\n",
       "   'pyspark.zip',\n",
       "   'coffee_log.txt',\n",
       "   'default_container_executor_session.sh',\n",
       "   '.default_container_executor.sh.crc',\n",
       "   'mini_req.txt',\n",
       "   'setup.lock',\n",
       "   '.launch_container.sh.crc',\n",
       "   '.default_container_executor_session.sh.crc',\n",
       "   'default_container_executor.sh',\n",
       "   'py4j-0.10.4-src.zip',\n",
       "   'launch_container.sh',\n",
       "   'container_tokens',\n",
       "   'coffee_boat_runner_auto059d3708c86a4cabb4b5ebb049e308c1.sh']),\n",
       " (9,\n",
       "  'boo-na-2-sw-crls\\n',\n",
       "  '/usr/lib/spark/jars/spark-core_2.11-2.2.0.jar:/env/python:/usr/lib/spark/python/lib/pyspark.zip:/usr/lib/spark/python/lib/py4j-0.10.4-src.zip:/hadoop/yarn/nm-local-dir/usercache/root/appcache/application_1516589627335_0012/container_1516589627335_0012_01_000013/pyspark.zip:/hadoop/yarn/nm-local-dir/usercache/root/appcache/application_1516589627335_0012/container_1516589627335_0012_01_000013/py4j-0.10.4-src.zip',\n",
       "  ['tmp',\n",
       "   '__spark_conf__',\n",
       "   '.container_tokens.crc',\n",
       "   'pyspark.zip',\n",
       "   'coffee_log.txt',\n",
       "   'default_container_executor_session.sh',\n",
       "   '.default_container_executor.sh.crc',\n",
       "   'mini_req.txt',\n",
       "   'setup.lock',\n",
       "   '.launch_container.sh.crc',\n",
       "   '.default_container_executor_session.sh.crc',\n",
       "   'default_container_executor.sh',\n",
       "   'py4j-0.10.4-src.zip',\n",
       "   'launch_container.sh',\n",
       "   'container_tokens',\n",
       "   'coffee_boat_runner_auto059d3708c86a4cabb4b5ebb049e308c1.sh'])]"
      ]
     },
     "execution_count": 23,
     "metadata": {},
     "output_type": "execute_result"
    }
   ],
   "source": [
    "import os\n",
    "def info(x):\n",
    "  import subprocess\n",
    "  import os\n",
    "  import edtf\n",
    "  return (x, subprocess.check_output(\"hostname\"), os.environ['PYTHONPATH'], os.listdir('.'))\n",
    "\n",
    "rdd.map(info).collect()"
   ]
  },
  {
   "cell_type": "code",
   "execution_count": 24,
   "metadata": {
    "collapsed": false
   },
   "outputs": [
    {
     "data": {
      "text/html": [
       "\n",
       "          <script src=\"/static/components/requirejs/require.js\"></script>\n",
       "          <script>\n",
       "            requirejs.config({\n",
       "              paths: {\n",
       "                base: '/static/base',\n",
       "              },\n",
       "            });\n",
       "          </script>\n",
       "          "
      ],
      "text/plain": [
       "<IPython.core.display.HTML object>"
      ]
     },
     "metadata": {},
     "output_type": "display_data"
    },
    {
     "name": "stdout",
     "output_type": "stream",
     "text": [
      "You've already launched your coffee boat. I'll add this package at runtime using magic, but next time add your packages before so I don't have to use my magical super powers (aka make your code slow).\n",
      "Writing req file to /tmp/coffee_boat_tmp_BX66Ae/magicCoffeeReqI7Ujvm.\n",
      "Estimated number of executors is 28\n",
      "Installed package on remote\n",
      "Installing package locally\n"
     ]
    }
   ],
   "source": [
    "# Add a package to a running Spark context\n",
    "captain.add_pip_packages(\"nltk\")"
   ]
  },
  {
   "cell_type": "code",
   "execution_count": 26,
   "metadata": {
    "collapsed": false
   },
   "outputs": [
    {
     "data": {
      "text/html": [
       "\n",
       "          <script src=\"/static/components/requirejs/require.js\"></script>\n",
       "          <script>\n",
       "            requirejs.config({\n",
       "              paths: {\n",
       "                base: '/static/base',\n",
       "              },\n",
       "            });\n",
       "          </script>\n",
       "          "
      ],
      "text/plain": [
       "<IPython.core.display.HTML object>"
      ]
     },
     "metadata": {},
     "output_type": "display_data"
    },
    {
     "data": {
      "text/plain": [
       "['yes', 'yes', 'yes', 'yes', 'yes', 'yes', 'yes', 'yes', 'yes', 'yes']"
      ]
     },
     "execution_count": 26,
     "metadata": {},
     "output_type": "execute_result"
    }
   ],
   "source": [
    "def nltk_ready(x):\n",
    "  try:\n",
    "    import nltk\n",
    "    return \"yes\"\n",
    "  except:\n",
    "    return \"no\"\n",
    "\n",
    "rdd.map(nltk_ready).collect()"
   ]
  },
  {
   "cell_type": "code",
   "execution_count": 29,
   "metadata": {
    "collapsed": false
   },
   "outputs": [
    {
     "data": {
      "text/html": [
       "\n",
       "          <script src=\"/static/components/requirejs/require.js\"></script>\n",
       "          <script>\n",
       "            requirejs.config({\n",
       "              paths: {\n",
       "                base: '/static/base',\n",
       "              },\n",
       "            });\n",
       "          </script>\n",
       "          "
      ],
      "text/plain": [
       "<IPython.core.display.HTML object>"
      ]
     },
     "metadata": {},
     "output_type": "display_data"
    }
   ],
   "source": [
    "# Want to verify this was reasonable? kill and restart an executor\n",
    "rdd2 = sc.parallelize(range(10*sc.defaultParallelism))"
   ]
  },
  {
   "cell_type": "code",
   "execution_count": 31,
   "metadata": {
    "collapsed": false
   },
   "outputs": [
    {
     "data": {
      "text/html": [
       "\n",
       "          <script src=\"/static/components/requirejs/require.js\"></script>\n",
       "          <script>\n",
       "            requirejs.config({\n",
       "              paths: {\n",
       "                base: '/static/base',\n",
       "              },\n",
       "            });\n",
       "          </script>\n",
       "          "
      ],
      "text/plain": [
       "<IPython.core.display.HTML object>"
      ]
     },
     "metadata": {},
     "output_type": "display_data"
    },
    {
     "data": {
      "text/plain": [
       "(20, 0)"
      ]
     },
     "execution_count": 31,
     "metadata": {},
     "output_type": "execute_result"
    }
   ],
   "source": [
    "ready_workers = rdd2.map(nltk_ready)\n",
    "ready_workers.cache()\n",
    "(ready_workers.filter(lambda x: x == \"yes\").count(), ready_workers.filter(lambda x: x == \"no\").count())"
   ]
  },
  {
   "cell_type": "code",
   "execution_count": 33,
   "metadata": {
    "collapsed": false
   },
   "outputs": [
    {
     "data": {
      "text/html": [
       "\n",
       "          <script src=\"/static/components/requirejs/require.js\"></script>\n",
       "          <script>\n",
       "            requirejs.config({\n",
       "              paths: {\n",
       "                base: '/static/base',\n",
       "              },\n",
       "            });\n",
       "          </script>\n",
       "          "
      ],
      "text/plain": [
       "<IPython.core.display.HTML object>"
      ]
     },
     "metadata": {},
     "output_type": "display_data"
    },
    {
     "data": {
      "text/plain": [
       "[('yes',\n",
       "  'boo-na-2-sw-d821\\n',\n",
       "  '/usr/lib/spark/jars/spark-core_2.11-2.2.0.jar:/env/python:/usr/lib/spark/python/lib/pyspark.zip:/usr/lib/spark/python/lib/py4j-0.10.4-src.zip:/hadoop/yarn/nm-local-dir/usercache/root/appcache/application_1516589627335_0012/container_1516589627335_0012_01_000003/pyspark.zip:/hadoop/yarn/nm-local-dir/usercache/root/appcache/application_1516589627335_0012/container_1516589627335_0012_01_000003/py4j-0.10.4-src.zip',\n",
       "  ['tmp',\n",
       "   '__spark_conf__',\n",
       "   '.container_tokens.crc',\n",
       "   'pyspark.zip',\n",
       "   'coffee_log.txt',\n",
       "   'default_container_executor_session.sh',\n",
       "   'magicCoffeeReqI7Ujvm',\n",
       "   '.default_container_executor.sh.crc',\n",
       "   'mini_req.txt',\n",
       "   'setup.lock',\n",
       "   '.launch_container.sh.crc',\n",
       "   '.default_container_executor_session.sh.crc',\n",
       "   'default_container_executor.sh',\n",
       "   'py4j-0.10.4-src.zip',\n",
       "   'launch_container.sh',\n",
       "   'container_tokens',\n",
       "   'coffee_boat_runner_auto059d3708c86a4cabb4b5ebb049e308c1.sh']),\n",
       " ('yes',\n",
       "  'boo-na-2-sw-d821\\n',\n",
       "  '/usr/lib/spark/jars/spark-core_2.11-2.2.0.jar:/env/python:/usr/lib/spark/python/lib/pyspark.zip:/usr/lib/spark/python/lib/py4j-0.10.4-src.zip:/hadoop/yarn/nm-local-dir/usercache/root/appcache/application_1516589627335_0012/container_1516589627335_0012_01_000003/pyspark.zip:/hadoop/yarn/nm-local-dir/usercache/root/appcache/application_1516589627335_0012/container_1516589627335_0012_01_000003/py4j-0.10.4-src.zip',\n",
       "  ['tmp',\n",
       "   '__spark_conf__',\n",
       "   '.container_tokens.crc',\n",
       "   'pyspark.zip',\n",
       "   'coffee_log.txt',\n",
       "   'default_container_executor_session.sh',\n",
       "   'magicCoffeeReqI7Ujvm',\n",
       "   '.default_container_executor.sh.crc',\n",
       "   'mini_req.txt',\n",
       "   'setup.lock',\n",
       "   '.launch_container.sh.crc',\n",
       "   '.default_container_executor_session.sh.crc',\n",
       "   'default_container_executor.sh',\n",
       "   'py4j-0.10.4-src.zip',\n",
       "   'launch_container.sh',\n",
       "   'container_tokens',\n",
       "   'coffee_boat_runner_auto059d3708c86a4cabb4b5ebb049e308c1.sh']),\n",
       " ('yes',\n",
       "  'boo-na-2-sw-d821\\n',\n",
       "  '/usr/lib/spark/jars/spark-core_2.11-2.2.0.jar:/env/python:/usr/lib/spark/python/lib/pyspark.zip:/usr/lib/spark/python/lib/py4j-0.10.4-src.zip:/hadoop/yarn/nm-local-dir/usercache/root/appcache/application_1516589627335_0012/container_1516589627335_0012_01_000003/pyspark.zip:/hadoop/yarn/nm-local-dir/usercache/root/appcache/application_1516589627335_0012/container_1516589627335_0012_01_000003/py4j-0.10.4-src.zip',\n",
       "  ['tmp',\n",
       "   '__spark_conf__',\n",
       "   '.container_tokens.crc',\n",
       "   'pyspark.zip',\n",
       "   'coffee_log.txt',\n",
       "   'default_container_executor_session.sh',\n",
       "   'magicCoffeeReqI7Ujvm',\n",
       "   '.default_container_executor.sh.crc',\n",
       "   'mini_req.txt',\n",
       "   'setup.lock',\n",
       "   '.launch_container.sh.crc',\n",
       "   '.default_container_executor_session.sh.crc',\n",
       "   'default_container_executor.sh',\n",
       "   'py4j-0.10.4-src.zip',\n",
       "   'launch_container.sh',\n",
       "   'container_tokens',\n",
       "   'coffee_boat_runner_auto059d3708c86a4cabb4b5ebb049e308c1.sh']),\n",
       " ('yes',\n",
       "  'boo-na-2-sw-d821\\n',\n",
       "  '/usr/lib/spark/jars/spark-core_2.11-2.2.0.jar:/env/python:/usr/lib/spark/python/lib/pyspark.zip:/usr/lib/spark/python/lib/py4j-0.10.4-src.zip:/hadoop/yarn/nm-local-dir/usercache/root/appcache/application_1516589627335_0012/container_1516589627335_0012_01_000003/pyspark.zip:/hadoop/yarn/nm-local-dir/usercache/root/appcache/application_1516589627335_0012/container_1516589627335_0012_01_000003/py4j-0.10.4-src.zip',\n",
       "  ['tmp',\n",
       "   '__spark_conf__',\n",
       "   '.container_tokens.crc',\n",
       "   'pyspark.zip',\n",
       "   'coffee_log.txt',\n",
       "   'default_container_executor_session.sh',\n",
       "   'magicCoffeeReqI7Ujvm',\n",
       "   '.default_container_executor.sh.crc',\n",
       "   'mini_req.txt',\n",
       "   'setup.lock',\n",
       "   '.launch_container.sh.crc',\n",
       "   '.default_container_executor_session.sh.crc',\n",
       "   'default_container_executor.sh',\n",
       "   'py4j-0.10.4-src.zip',\n",
       "   'launch_container.sh',\n",
       "   'container_tokens',\n",
       "   'coffee_boat_runner_auto059d3708c86a4cabb4b5ebb049e308c1.sh']),\n",
       " ('yes',\n",
       "  'boo-na-2-sw-d821\\n',\n",
       "  '/usr/lib/spark/jars/spark-core_2.11-2.2.0.jar:/env/python:/usr/lib/spark/python/lib/pyspark.zip:/usr/lib/spark/python/lib/py4j-0.10.4-src.zip:/hadoop/yarn/nm-local-dir/usercache/root/appcache/application_1516589627335_0012/container_1516589627335_0012_01_000003/pyspark.zip:/hadoop/yarn/nm-local-dir/usercache/root/appcache/application_1516589627335_0012/container_1516589627335_0012_01_000003/py4j-0.10.4-src.zip',\n",
       "  ['tmp',\n",
       "   '__spark_conf__',\n",
       "   '.container_tokens.crc',\n",
       "   'pyspark.zip',\n",
       "   'coffee_log.txt',\n",
       "   'default_container_executor_session.sh',\n",
       "   'magicCoffeeReqI7Ujvm',\n",
       "   '.default_container_executor.sh.crc',\n",
       "   'mini_req.txt',\n",
       "   'setup.lock',\n",
       "   '.launch_container.sh.crc',\n",
       "   '.default_container_executor_session.sh.crc',\n",
       "   'default_container_executor.sh',\n",
       "   'py4j-0.10.4-src.zip',\n",
       "   'launch_container.sh',\n",
       "   'container_tokens',\n",
       "   'coffee_boat_runner_auto059d3708c86a4cabb4b5ebb049e308c1.sh']),\n",
       " ('yes',\n",
       "  'boo-na-2-sw-d821\\n',\n",
       "  '/usr/lib/spark/jars/spark-core_2.11-2.2.0.jar:/env/python:/usr/lib/spark/python/lib/pyspark.zip:/usr/lib/spark/python/lib/py4j-0.10.4-src.zip:/hadoop/yarn/nm-local-dir/usercache/root/appcache/application_1516589627335_0012/container_1516589627335_0012_01_000003/pyspark.zip:/hadoop/yarn/nm-local-dir/usercache/root/appcache/application_1516589627335_0012/container_1516589627335_0012_01_000003/py4j-0.10.4-src.zip',\n",
       "  ['tmp',\n",
       "   '__spark_conf__',\n",
       "   '.container_tokens.crc',\n",
       "   'pyspark.zip',\n",
       "   'coffee_log.txt',\n",
       "   'default_container_executor_session.sh',\n",
       "   'magicCoffeeReqI7Ujvm',\n",
       "   '.default_container_executor.sh.crc',\n",
       "   'mini_req.txt',\n",
       "   'setup.lock',\n",
       "   '.launch_container.sh.crc',\n",
       "   '.default_container_executor_session.sh.crc',\n",
       "   'default_container_executor.sh',\n",
       "   'py4j-0.10.4-src.zip',\n",
       "   'launch_container.sh',\n",
       "   'container_tokens',\n",
       "   'coffee_boat_runner_auto059d3708c86a4cabb4b5ebb049e308c1.sh']),\n",
       " ('yes',\n",
       "  'boo-na-2-sw-d821\\n',\n",
       "  '/usr/lib/spark/jars/spark-core_2.11-2.2.0.jar:/env/python:/usr/lib/spark/python/lib/pyspark.zip:/usr/lib/spark/python/lib/py4j-0.10.4-src.zip:/hadoop/yarn/nm-local-dir/usercache/root/appcache/application_1516589627335_0012/container_1516589627335_0012_01_000003/pyspark.zip:/hadoop/yarn/nm-local-dir/usercache/root/appcache/application_1516589627335_0012/container_1516589627335_0012_01_000003/py4j-0.10.4-src.zip',\n",
       "  ['tmp',\n",
       "   '__spark_conf__',\n",
       "   '.container_tokens.crc',\n",
       "   'pyspark.zip',\n",
       "   'coffee_log.txt',\n",
       "   'default_container_executor_session.sh',\n",
       "   'magicCoffeeReqI7Ujvm',\n",
       "   '.default_container_executor.sh.crc',\n",
       "   'mini_req.txt',\n",
       "   'setup.lock',\n",
       "   '.launch_container.sh.crc',\n",
       "   '.default_container_executor_session.sh.crc',\n",
       "   'default_container_executor.sh',\n",
       "   'py4j-0.10.4-src.zip',\n",
       "   'launch_container.sh',\n",
       "   'container_tokens',\n",
       "   'coffee_boat_runner_auto059d3708c86a4cabb4b5ebb049e308c1.sh']),\n",
       " ('yes',\n",
       "  'boo-na-2-sw-d821\\n',\n",
       "  '/usr/lib/spark/jars/spark-core_2.11-2.2.0.jar:/env/python:/usr/lib/spark/python/lib/pyspark.zip:/usr/lib/spark/python/lib/py4j-0.10.4-src.zip:/hadoop/yarn/nm-local-dir/usercache/root/appcache/application_1516589627335_0012/container_1516589627335_0012_01_000003/pyspark.zip:/hadoop/yarn/nm-local-dir/usercache/root/appcache/application_1516589627335_0012/container_1516589627335_0012_01_000003/py4j-0.10.4-src.zip',\n",
       "  ['tmp',\n",
       "   '__spark_conf__',\n",
       "   '.container_tokens.crc',\n",
       "   'pyspark.zip',\n",
       "   'coffee_log.txt',\n",
       "   'default_container_executor_session.sh',\n",
       "   'magicCoffeeReqI7Ujvm',\n",
       "   '.default_container_executor.sh.crc',\n",
       "   'mini_req.txt',\n",
       "   'setup.lock',\n",
       "   '.launch_container.sh.crc',\n",
       "   '.default_container_executor_session.sh.crc',\n",
       "   'default_container_executor.sh',\n",
       "   'py4j-0.10.4-src.zip',\n",
       "   'launch_container.sh',\n",
       "   'container_tokens',\n",
       "   'coffee_boat_runner_auto059d3708c86a4cabb4b5ebb049e308c1.sh']),\n",
       " ('yes',\n",
       "  'boo-na-2-sw-d821\\n',\n",
       "  '/usr/lib/spark/jars/spark-core_2.11-2.2.0.jar:/env/python:/usr/lib/spark/python/lib/pyspark.zip:/usr/lib/spark/python/lib/py4j-0.10.4-src.zip:/hadoop/yarn/nm-local-dir/usercache/root/appcache/application_1516589627335_0012/container_1516589627335_0012_01_000003/pyspark.zip:/hadoop/yarn/nm-local-dir/usercache/root/appcache/application_1516589627335_0012/container_1516589627335_0012_01_000003/py4j-0.10.4-src.zip',\n",
       "  ['tmp',\n",
       "   '__spark_conf__',\n",
       "   '.container_tokens.crc',\n",
       "   'pyspark.zip',\n",
       "   'coffee_log.txt',\n",
       "   'default_container_executor_session.sh',\n",
       "   'magicCoffeeReqI7Ujvm',\n",
       "   '.default_container_executor.sh.crc',\n",
       "   'mini_req.txt',\n",
       "   'setup.lock',\n",
       "   '.launch_container.sh.crc',\n",
       "   '.default_container_executor_session.sh.crc',\n",
       "   'default_container_executor.sh',\n",
       "   'py4j-0.10.4-src.zip',\n",
       "   'launch_container.sh',\n",
       "   'container_tokens',\n",
       "   'coffee_boat_runner_auto059d3708c86a4cabb4b5ebb049e308c1.sh']),\n",
       " ('yes',\n",
       "  'boo-na-2-sw-d821\\n',\n",
       "  '/usr/lib/spark/jars/spark-core_2.11-2.2.0.jar:/env/python:/usr/lib/spark/python/lib/pyspark.zip:/usr/lib/spark/python/lib/py4j-0.10.4-src.zip:/hadoop/yarn/nm-local-dir/usercache/root/appcache/application_1516589627335_0012/container_1516589627335_0012_01_000003/pyspark.zip:/hadoop/yarn/nm-local-dir/usercache/root/appcache/application_1516589627335_0012/container_1516589627335_0012_01_000003/py4j-0.10.4-src.zip',\n",
       "  ['tmp',\n",
       "   '__spark_conf__',\n",
       "   '.container_tokens.crc',\n",
       "   'pyspark.zip',\n",
       "   'coffee_log.txt',\n",
       "   'default_container_executor_session.sh',\n",
       "   'magicCoffeeReqI7Ujvm',\n",
       "   '.default_container_executor.sh.crc',\n",
       "   'mini_req.txt',\n",
       "   'setup.lock',\n",
       "   '.launch_container.sh.crc',\n",
       "   '.default_container_executor_session.sh.crc',\n",
       "   'default_container_executor.sh',\n",
       "   'py4j-0.10.4-src.zip',\n",
       "   'launch_container.sh',\n",
       "   'container_tokens',\n",
       "   'coffee_boat_runner_auto059d3708c86a4cabb4b5ebb049e308c1.sh']),\n",
       " ('yes',\n",
       "  'boo-na-2-sw-d821\\n',\n",
       "  '/usr/lib/spark/jars/spark-core_2.11-2.2.0.jar:/env/python:/usr/lib/spark/python/lib/pyspark.zip:/usr/lib/spark/python/lib/py4j-0.10.4-src.zip:/hadoop/yarn/nm-local-dir/usercache/root/appcache/application_1516589627335_0012/container_1516589627335_0012_01_000003/pyspark.zip:/hadoop/yarn/nm-local-dir/usercache/root/appcache/application_1516589627335_0012/container_1516589627335_0012_01_000003/py4j-0.10.4-src.zip',\n",
       "  ['tmp',\n",
       "   '__spark_conf__',\n",
       "   '.container_tokens.crc',\n",
       "   'pyspark.zip',\n",
       "   'coffee_log.txt',\n",
       "   'default_container_executor_session.sh',\n",
       "   'magicCoffeeReqI7Ujvm',\n",
       "   '.default_container_executor.sh.crc',\n",
       "   'mini_req.txt',\n",
       "   'setup.lock',\n",
       "   '.launch_container.sh.crc',\n",
       "   '.default_container_executor_session.sh.crc',\n",
       "   'default_container_executor.sh',\n",
       "   'py4j-0.10.4-src.zip',\n",
       "   'launch_container.sh',\n",
       "   'container_tokens',\n",
       "   'coffee_boat_runner_auto059d3708c86a4cabb4b5ebb049e308c1.sh']),\n",
       " ('yes',\n",
       "  'boo-na-2-sw-d821\\n',\n",
       "  '/usr/lib/spark/jars/spark-core_2.11-2.2.0.jar:/env/python:/usr/lib/spark/python/lib/pyspark.zip:/usr/lib/spark/python/lib/py4j-0.10.4-src.zip:/hadoop/yarn/nm-local-dir/usercache/root/appcache/application_1516589627335_0012/container_1516589627335_0012_01_000003/pyspark.zip:/hadoop/yarn/nm-local-dir/usercache/root/appcache/application_1516589627335_0012/container_1516589627335_0012_01_000003/py4j-0.10.4-src.zip',\n",
       "  ['tmp',\n",
       "   '__spark_conf__',\n",
       "   '.container_tokens.crc',\n",
       "   'pyspark.zip',\n",
       "   'coffee_log.txt',\n",
       "   'default_container_executor_session.sh',\n",
       "   'magicCoffeeReqI7Ujvm',\n",
       "   '.default_container_executor.sh.crc',\n",
       "   'mini_req.txt',\n",
       "   'setup.lock',\n",
       "   '.launch_container.sh.crc',\n",
       "   '.default_container_executor_session.sh.crc',\n",
       "   'default_container_executor.sh',\n",
       "   'py4j-0.10.4-src.zip',\n",
       "   'launch_container.sh',\n",
       "   'container_tokens',\n",
       "   'coffee_boat_runner_auto059d3708c86a4cabb4b5ebb049e308c1.sh']),\n",
       " ('yes',\n",
       "  'boo-na-2-sw-d821\\n',\n",
       "  '/usr/lib/spark/jars/spark-core_2.11-2.2.0.jar:/env/python:/usr/lib/spark/python/lib/pyspark.zip:/usr/lib/spark/python/lib/py4j-0.10.4-src.zip:/hadoop/yarn/nm-local-dir/usercache/root/appcache/application_1516589627335_0012/container_1516589627335_0012_01_000003/pyspark.zip:/hadoop/yarn/nm-local-dir/usercache/root/appcache/application_1516589627335_0012/container_1516589627335_0012_01_000003/py4j-0.10.4-src.zip',\n",
       "  ['tmp',\n",
       "   '__spark_conf__',\n",
       "   '.container_tokens.crc',\n",
       "   'pyspark.zip',\n",
       "   'coffee_log.txt',\n",
       "   'default_container_executor_session.sh',\n",
       "   'magicCoffeeReqI7Ujvm',\n",
       "   '.default_container_executor.sh.crc',\n",
       "   'mini_req.txt',\n",
       "   'setup.lock',\n",
       "   '.launch_container.sh.crc',\n",
       "   '.default_container_executor_session.sh.crc',\n",
       "   'default_container_executor.sh',\n",
       "   'py4j-0.10.4-src.zip',\n",
       "   'launch_container.sh',\n",
       "   'container_tokens',\n",
       "   'coffee_boat_runner_auto059d3708c86a4cabb4b5ebb049e308c1.sh']),\n",
       " ('yes',\n",
       "  'boo-na-2-sw-d821\\n',\n",
       "  '/usr/lib/spark/jars/spark-core_2.11-2.2.0.jar:/env/python:/usr/lib/spark/python/lib/pyspark.zip:/usr/lib/spark/python/lib/py4j-0.10.4-src.zip:/hadoop/yarn/nm-local-dir/usercache/root/appcache/application_1516589627335_0012/container_1516589627335_0012_01_000003/pyspark.zip:/hadoop/yarn/nm-local-dir/usercache/root/appcache/application_1516589627335_0012/container_1516589627335_0012_01_000003/py4j-0.10.4-src.zip',\n",
       "  ['tmp',\n",
       "   '__spark_conf__',\n",
       "   '.container_tokens.crc',\n",
       "   'pyspark.zip',\n",
       "   'coffee_log.txt',\n",
       "   'default_container_executor_session.sh',\n",
       "   'magicCoffeeReqI7Ujvm',\n",
       "   '.default_container_executor.sh.crc',\n",
       "   'mini_req.txt',\n",
       "   'setup.lock',\n",
       "   '.launch_container.sh.crc',\n",
       "   '.default_container_executor_session.sh.crc',\n",
       "   'default_container_executor.sh',\n",
       "   'py4j-0.10.4-src.zip',\n",
       "   'launch_container.sh',\n",
       "   'container_tokens',\n",
       "   'coffee_boat_runner_auto059d3708c86a4cabb4b5ebb049e308c1.sh']),\n",
       " ('yes',\n",
       "  'boo-na-2-sw-d821\\n',\n",
       "  '/usr/lib/spark/jars/spark-core_2.11-2.2.0.jar:/env/python:/usr/lib/spark/python/lib/pyspark.zip:/usr/lib/spark/python/lib/py4j-0.10.4-src.zip:/hadoop/yarn/nm-local-dir/usercache/root/appcache/application_1516589627335_0012/container_1516589627335_0012_01_000003/pyspark.zip:/hadoop/yarn/nm-local-dir/usercache/root/appcache/application_1516589627335_0012/container_1516589627335_0012_01_000003/py4j-0.10.4-src.zip',\n",
       "  ['tmp',\n",
       "   '__spark_conf__',\n",
       "   '.container_tokens.crc',\n",
       "   'pyspark.zip',\n",
       "   'coffee_log.txt',\n",
       "   'default_container_executor_session.sh',\n",
       "   'magicCoffeeReqI7Ujvm',\n",
       "   '.default_container_executor.sh.crc',\n",
       "   'mini_req.txt',\n",
       "   'setup.lock',\n",
       "   '.launch_container.sh.crc',\n",
       "   '.default_container_executor_session.sh.crc',\n",
       "   'default_container_executor.sh',\n",
       "   'py4j-0.10.4-src.zip',\n",
       "   'launch_container.sh',\n",
       "   'container_tokens',\n",
       "   'coffee_boat_runner_auto059d3708c86a4cabb4b5ebb049e308c1.sh']),\n",
       " ('yes',\n",
       "  'boo-na-2-sw-d821\\n',\n",
       "  '/usr/lib/spark/jars/spark-core_2.11-2.2.0.jar:/env/python:/usr/lib/spark/python/lib/pyspark.zip:/usr/lib/spark/python/lib/py4j-0.10.4-src.zip:/hadoop/yarn/nm-local-dir/usercache/root/appcache/application_1516589627335_0012/container_1516589627335_0012_01_000003/pyspark.zip:/hadoop/yarn/nm-local-dir/usercache/root/appcache/application_1516589627335_0012/container_1516589627335_0012_01_000003/py4j-0.10.4-src.zip',\n",
       "  ['tmp',\n",
       "   '__spark_conf__',\n",
       "   '.container_tokens.crc',\n",
       "   'pyspark.zip',\n",
       "   'coffee_log.txt',\n",
       "   'default_container_executor_session.sh',\n",
       "   'magicCoffeeReqI7Ujvm',\n",
       "   '.default_container_executor.sh.crc',\n",
       "   'mini_req.txt',\n",
       "   'setup.lock',\n",
       "   '.launch_container.sh.crc',\n",
       "   '.default_container_executor_session.sh.crc',\n",
       "   'default_container_executor.sh',\n",
       "   'py4j-0.10.4-src.zip',\n",
       "   'launch_container.sh',\n",
       "   'container_tokens',\n",
       "   'coffee_boat_runner_auto059d3708c86a4cabb4b5ebb049e308c1.sh']),\n",
       " ('yes',\n",
       "  'boo-na-2-sw-d821\\n',\n",
       "  '/usr/lib/spark/jars/spark-core_2.11-2.2.0.jar:/env/python:/usr/lib/spark/python/lib/pyspark.zip:/usr/lib/spark/python/lib/py4j-0.10.4-src.zip:/hadoop/yarn/nm-local-dir/usercache/root/appcache/application_1516589627335_0012/container_1516589627335_0012_01_000003/pyspark.zip:/hadoop/yarn/nm-local-dir/usercache/root/appcache/application_1516589627335_0012/container_1516589627335_0012_01_000003/py4j-0.10.4-src.zip',\n",
       "  ['tmp',\n",
       "   '__spark_conf__',\n",
       "   '.container_tokens.crc',\n",
       "   'pyspark.zip',\n",
       "   'coffee_log.txt',\n",
       "   'default_container_executor_session.sh',\n",
       "   'magicCoffeeReqI7Ujvm',\n",
       "   '.default_container_executor.sh.crc',\n",
       "   'mini_req.txt',\n",
       "   'setup.lock',\n",
       "   '.launch_container.sh.crc',\n",
       "   '.default_container_executor_session.sh.crc',\n",
       "   'default_container_executor.sh',\n",
       "   'py4j-0.10.4-src.zip',\n",
       "   'launch_container.sh',\n",
       "   'container_tokens',\n",
       "   'coffee_boat_runner_auto059d3708c86a4cabb4b5ebb049e308c1.sh']),\n",
       " ('yes',\n",
       "  'boo-na-2-sw-d821\\n',\n",
       "  '/usr/lib/spark/jars/spark-core_2.11-2.2.0.jar:/env/python:/usr/lib/spark/python/lib/pyspark.zip:/usr/lib/spark/python/lib/py4j-0.10.4-src.zip:/hadoop/yarn/nm-local-dir/usercache/root/appcache/application_1516589627335_0012/container_1516589627335_0012_01_000003/pyspark.zip:/hadoop/yarn/nm-local-dir/usercache/root/appcache/application_1516589627335_0012/container_1516589627335_0012_01_000003/py4j-0.10.4-src.zip',\n",
       "  ['tmp',\n",
       "   '__spark_conf__',\n",
       "   '.container_tokens.crc',\n",
       "   'pyspark.zip',\n",
       "   'coffee_log.txt',\n",
       "   'default_container_executor_session.sh',\n",
       "   'magicCoffeeReqI7Ujvm',\n",
       "   '.default_container_executor.sh.crc',\n",
       "   'mini_req.txt',\n",
       "   'setup.lock',\n",
       "   '.launch_container.sh.crc',\n",
       "   '.default_container_executor_session.sh.crc',\n",
       "   'default_container_executor.sh',\n",
       "   'py4j-0.10.4-src.zip',\n",
       "   'launch_container.sh',\n",
       "   'container_tokens',\n",
       "   'coffee_boat_runner_auto059d3708c86a4cabb4b5ebb049e308c1.sh']),\n",
       " ('yes',\n",
       "  'boo-na-2-sw-d821\\n',\n",
       "  '/usr/lib/spark/jars/spark-core_2.11-2.2.0.jar:/env/python:/usr/lib/spark/python/lib/pyspark.zip:/usr/lib/spark/python/lib/py4j-0.10.4-src.zip:/hadoop/yarn/nm-local-dir/usercache/root/appcache/application_1516589627335_0012/container_1516589627335_0012_01_000003/pyspark.zip:/hadoop/yarn/nm-local-dir/usercache/root/appcache/application_1516589627335_0012/container_1516589627335_0012_01_000003/py4j-0.10.4-src.zip',\n",
       "  ['tmp',\n",
       "   '__spark_conf__',\n",
       "   '.container_tokens.crc',\n",
       "   'pyspark.zip',\n",
       "   'coffee_log.txt',\n",
       "   'default_container_executor_session.sh',\n",
       "   'magicCoffeeReqI7Ujvm',\n",
       "   '.default_container_executor.sh.crc',\n",
       "   'mini_req.txt',\n",
       "   'setup.lock',\n",
       "   '.launch_container.sh.crc',\n",
       "   '.default_container_executor_session.sh.crc',\n",
       "   'default_container_executor.sh',\n",
       "   'py4j-0.10.4-src.zip',\n",
       "   'launch_container.sh',\n",
       "   'container_tokens',\n",
       "   'coffee_boat_runner_auto059d3708c86a4cabb4b5ebb049e308c1.sh']),\n",
       " ('yes',\n",
       "  'boo-na-2-sw-d821\\n',\n",
       "  '/usr/lib/spark/jars/spark-core_2.11-2.2.0.jar:/env/python:/usr/lib/spark/python/lib/pyspark.zip:/usr/lib/spark/python/lib/py4j-0.10.4-src.zip:/hadoop/yarn/nm-local-dir/usercache/root/appcache/application_1516589627335_0012/container_1516589627335_0012_01_000003/pyspark.zip:/hadoop/yarn/nm-local-dir/usercache/root/appcache/application_1516589627335_0012/container_1516589627335_0012_01_000003/py4j-0.10.4-src.zip',\n",
       "  ['tmp',\n",
       "   '__spark_conf__',\n",
       "   '.container_tokens.crc',\n",
       "   'pyspark.zip',\n",
       "   'coffee_log.txt',\n",
       "   'default_container_executor_session.sh',\n",
       "   'magicCoffeeReqI7Ujvm',\n",
       "   '.default_container_executor.sh.crc',\n",
       "   'mini_req.txt',\n",
       "   'setup.lock',\n",
       "   '.launch_container.sh.crc',\n",
       "   '.default_container_executor_session.sh.crc',\n",
       "   'default_container_executor.sh',\n",
       "   'py4j-0.10.4-src.zip',\n",
       "   'launch_container.sh',\n",
       "   'container_tokens',\n",
       "   'coffee_boat_runner_auto059d3708c86a4cabb4b5ebb049e308c1.sh'])]"
      ]
     },
     "execution_count": 33,
     "metadata": {},
     "output_type": "execute_result"
    }
   ],
   "source": [
    "ready_workers.map(info).collect()"
   ]
  },
  {
   "cell_type": "code",
   "execution_count": null,
   "metadata": {
    "collapsed": true
   },
   "outputs": [],
   "source": []
  }
 ],
 "metadata": {
  "kernelspec": {
   "display_name": "Python 2",
   "language": "python",
   "name": "python2"
  },
  "language_info": {
   "codemirror_mode": {
    "name": "ipython",
    "version": 2
   },
   "file_extension": ".py",
   "mimetype": "text/x-python",
   "name": "python",
   "nbconvert_exporter": "python",
   "pygments_lexer": "ipython2",
   "version": "2.7.12"
  }
 },
 "nbformat": 4,
 "nbformat_minor": 2
}
