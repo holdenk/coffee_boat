{
  "cells": [
    {
      "cell_type": "code",
      "source": [
        "from pyspark.context import *\n",
        "from coffee_boat import *"
      ],
      "outputs": [],
      "execution_count": 1,
      "metadata": {
        "collapsed": false,
        "outputHidden": false,
        "inputHidden": false
      }
    },
    {
      "cell_type": "code",
      "source": [
        "captain = Captain(accept_conda_license=True)\n",
        "captain.add_pip_packages(\"pyarrow\")\n",
        "captain.launch_ship()"
      ],
      "outputs": [
        {
          "output_type": "stream",
          "name": "stdout",
          "text": [
            "Adding package to requirements. Remember to launch coffee boat beforestarting SparkContext.\n",
            "Installing package locally\n",
            "Downloading conda from https://repo.continuum.io/miniconda/Miniconda2-latest-Linux-x86_64.sh to /tmp/coffee_boat_tmp_mogVbx\n",
            "Running conda setup....\n",
            "Writing package spec to /tmp/coffee_boat_tmp_mogVbx/tmp3lvURT.\n",
            "Creating conda env\n",
            "Packaging conda env\n",
            "Using runner script\n",
            "#!/bin/bash\n",
            "touch setup.lock # TODO: work with this\n",
            "echo \"Kicking off python runner coffee_boat_auto8ac65f04a5544be8ab5e9bf8d5ca7494.zip\" > coffee_log.txt\n",
            "echo \"pwd looks like:\" >> coffee_log.txt\n",
            "ls >> coffee_log.txt\n",
            "echo \"k\" >> coffee_log.txt\n",
            "if [ -f coffee_boat_auto8ac65f04a5544be8ab5e9bf8d5ca7494.zip ];\n",
            "then\n",
            "    echo \"Running setup\" >> coffee_log.txt\n",
            "    unzip coffee_boat_auto8ac65f04a5544be8ab5e9bf8d5ca7494.zip &>> coffee_log.txt && rm coffee_boat_auto8ac65f04a5544be8ab5e9bf8d5ca7494.zip &>> coffee_log.txt\n",
            "    # Since Conda isn't really fully relocatable...\n",
            "    echo \"Rewriting conda and pip python paths...\" >> coffee_log.txt\n",
            "    sed -i -e \"1s@.*@\\#\\!./tmp/coffee_boat_tmp_mogVbx/auto8ac65f04a5544be8ab5e9bf8d5ca7494/bin/python@\" ./tmp/coffee_boat_tmp_mogVbx/auto8ac65f04a5544be8ab5e9bf8d5ca7494/bin/conda >> coffee_log.txt\n",
            "    sed -i -e \"1s@.*@\\#\\!./tmp/coffee_boat_tmp_mogVbx/auto8ac65f04a5544be8ab5e9bf8d5ca7494/bin/python@\" ./tmp/coffee_boat_tmp_mogVbx/auto8ac65f04a5544be8ab5e9bf8d5ca7494/bin/pip >> coffee_log.txt\n",
            "fi\n",
            "cat magicCoffeeReq* > mini_req.txt &> /dev/null || true\n",
            "echo \"pip install\" >> coffee_log.txt\n",
            "./tmp/coffee_boat_tmp_mogVbx/auto8ac65f04a5544be8ab5e9bf8d5ca7494/bin/pip install -r mini_req.txt &>> coffee_log.txt\n",
            "export PATH=./tmp/coffee_boat_tmp_mogVbx/auto8ac65f04a5544be8ab5e9bf8d5ca7494/bin:$PATH\n",
            "./tmp/coffee_boat_tmp_mogVbx/auto8ac65f04a5544be8ab5e9bf8d5ca7494/bin/python \"$@\" || cat coffee_log.txt 1>&2 \n",
            "using --files /tmp/coffee_boat_tmp_mogVbx/coffee_boat_auto8ac65f04a5544be8ab5e9bf8d5ca7494.zip,/tmp/coffee_boat_tmp_mogVbx/coffee_boat_runner_auto8ac65f04a5544be8ab5e9bf8d5ca7494.sh pyspark-shell as python arguments\n",
            "No active context, depending on submit args.\n"
          ]
        }
      ],
      "execution_count": 2,
      "metadata": {
        "collapsed": false,
        "outputHidden": false,
        "inputHidden": false
      }
    },
    {
      "cell_type": "code",
      "source": [
        "sc"
      ],
      "outputs": [
        {
          "output_type": "execute_result",
          "execution_count": 3,
          "data": {
            "text/plain": [
              "''"
            ]
          },
          "metadata": {}
        }
      ],
      "execution_count": 3,
      "metadata": {
        "collapsed": false,
        "outputHidden": false,
        "inputHidden": false
      }
    },
    {
      "cell_type": "code",
      "source": [
        "# Connect to a Spark standalone master\n",
        "sc = SparkContext(master=\"spark://localhost:7077\")"
      ],
      "outputs": [],
      "execution_count": 4,
      "metadata": {
        "collapsed": false,
        "outputHidden": false,
        "inputHidden": false
      }
    },
    {
      "cell_type": "code",
      "source": [
        "rdd = sc.parallelize(range(10))"
      ],
      "outputs": [],
      "execution_count": 5,
      "metadata": {
        "collapsed": false,
        "outputHidden": false,
        "inputHidden": false
      }
    },
    {
      "cell_type": "code",
      "source": [
        "rdd.collect()"
      ],
      "outputs": [
        {
          "output_type": "execute_result",
          "execution_count": 6,
          "data": {
            "text/plain": [
              "[0, 1, 2, 3, 4, 5, 6, 7, 8, 9]"
            ]
          },
          "metadata": {}
        }
      ],
      "execution_count": 6,
      "metadata": {
        "collapsed": false,
        "outputHidden": false,
        "inputHidden": false
      }
    },
    {
      "cell_type": "code",
      "source": [
        "rdd.map(lambda x: x).collect()"
      ],
      "outputs": [
        {
          "output_type": "execute_result",
          "execution_count": 7,
          "data": {
            "text/plain": [
              "[0, 1, 2, 3, 4, 5, 6, 7, 8, 9]"
            ]
          },
          "metadata": {}
        }
      ],
      "execution_count": 7,
      "metadata": {
        "collapsed": false,
        "outputHidden": false,
        "inputHidden": false
      }
    },
    {
      "cell_type": "code",
      "source": [
        "def foo(x):\n",
        "    import pyarrow\n",
        "    return \"yes\"\n",
        "rdd.map(foo).collect()"
      ],
      "outputs": [
        {
          "output_type": "execute_result",
          "execution_count": 8,
          "data": {
            "text/plain": [
              "['yes', 'yes', 'yes', 'yes', 'yes', 'yes', 'yes', 'yes', 'yes', 'yes']"
            ]
          },
          "metadata": {}
        }
      ],
      "execution_count": 8,
      "metadata": {
        "collapsed": false,
        "outputHidden": false,
        "inputHidden": false
      }
    },
    {
      "cell_type": "code",
      "source": [
        "captain.add_pip_packages(\"nbconvert\")"
      ],
      "outputs": [
        {
          "output_type": "stream",
          "name": "stdout",
          "text": [
            "You've already launched your coffee boat. I'll add this package at runtime using magic, but next time add your packages before so I don't have to use my magical super powers (aka make your code slow).\n",
            "Writing req file to /tmp/coffee_boat_tmp_mogVbx/magicCoffeeReq94CAtS.\n",
            "Estimated number of executors is 4\n",
            "Installed package on remote\n",
            "Installing package locally\n"
          ]
        }
      ],
      "execution_count": 9,
      "metadata": {
        "collapsed": false,
        "outputHidden": false,
        "inputHidden": false
      }
    },
    {
      "cell_type": "code",
      "source": [
        "def foo2(x):\n",
        "    import nbconvert\n",
        "    return \"yes\"\n",
        "rdd.map(foo2).collect()"
      ],
      "outputs": [
        {
          "output_type": "execute_result",
          "execution_count": 10,
          "data": {
            "text/plain": [
              "['yes', 'yes', 'yes', 'yes', 'yes', 'yes', 'yes', 'yes', 'yes', 'yes']"
            ]
          },
          "metadata": {}
        }
      ],
      "execution_count": 10,
      "metadata": {
        "collapsed": false,
        "outputHidden": false,
        "inputHidden": false
      }
    },
    {
      "cell_type": "code",
      "source": [
        "sc.stop()"
      ],
      "outputs": [],
      "execution_count": 11,
      "metadata": {
        "collapsed": false,
        "outputHidden": false,
        "inputHidden": false
      }
    },
    {
      "cell_type": "code",
      "source": [],
      "outputs": [],
      "execution_count": 12,
      "metadata": {
        "collapsed": false,
        "outputHidden": false,
        "inputHidden": false
      }
    }
  ],
  "metadata": {
    "kernelspec": {
      "name": "python_spark_testing_sadness",
      "language": "python",
      "display_name": "python_spark_testing_sadness"
    },
    "kernel_info": {
      "name": "python_spark_testing_sadness"
    },
    "language_info": {
      "mimetype": "text/x-python",
      "nbconvert_exporter": "python",
      "name": "python",
      "pygments_lexer": "ipython2",
      "version": "2.7.6",
      "file_extension": ".py",
      "codemirror_mode": {
        "version": 2,
        "name": "ipython"
      }
    },
    "nteract": {
      "version": "0.4.3"
    }
  },
  "nbformat": 4,
  "nbformat_minor": 4
}